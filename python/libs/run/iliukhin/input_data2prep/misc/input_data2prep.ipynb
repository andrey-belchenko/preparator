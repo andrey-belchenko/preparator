{
 "cells": [
  {
   "cell_type": "code",
   "execution_count": 1,
   "metadata": {},
   "outputs": [],
   "source": [
    "import pandas as pd\n",
    "from pymongo import MongoClient\n",
    "import yaml\n",
    "import os\n",
    "import re\n",
    "\n",
    "from transform import transform_rs, transform_supa"
   ]
  },
  {
   "cell_type": "code",
   "execution_count": 2,
   "metadata": {},
   "outputs": [
    {
     "data": {
      "text/plain": [
       "MongoClient(host=['mongo.siber-sk.oastu.lan:27017'], document_class=dict, tz_aware=False, connect=True)"
      ]
     },
     "execution_count": 2,
     "metadata": {},
     "output_type": "execute_result"
    }
   ],
   "source": [
    "with open('params.yml', 'r') as f:\n",
    "    params = yaml.full_load(f)\n",
    "\n",
    "connection = MongoClient(params['mongo_connection'])\n",
    "connection"
   ]
  },
  {
   "cell_type": "code",
   "execution_count": 3,
   "metadata": {},
   "outputs": [],
   "source": [
    "assert os.path.isdir(params['input_directory']), f\"Заданная папка {params['input_directory']} не существует. См. файл params.yml\""
   ]
  },
  {
   "cell_type": "code",
   "execution_count": 4,
   "metadata": {},
   "outputs": [],
   "source": [
    "files = []\n",
    "for file in os.listdir(params['input_directory']):\n",
    "    if ('.csv' in file or '.xlsx' in file) and '_' in file:\n",
    "        equip_class_system, file_ext = file.split('.')\n",
    "        equip_class, system = equip_class_system.split('_')\n",
    "        assert system in ['rs', 'supa'], f'В названии файла {file} неверно указана система источник'\n",
    "        files.append({\n",
    "            'file': file,\n",
    "            'class': equip_class,\n",
    "            'system': system,\n",
    "            'file_ext': file_ext,\n",
    "            'path': os.path.join(params['input_directory'], file)\n",
    "        })"
   ]
  },
  {
   "cell_type": "code",
   "execution_count": 5,
   "metadata": {},
   "outputs": [],
   "source": [
    "def insert_collection(db_name, col_name):\n",
    "    db = connection[db_name]\n",
    "    db.drop_collection(col_name)\n",
    "    col = db[col_name]\n",
    "    col.insert_many(df.to_dict('records'))\n",
    "    print(f'{col_name} collection inserted into {db_name}')"
   ]
  },
  {
   "cell_type": "code",
   "execution_count": 6,
   "metadata": {},
   "outputs": [
    {
     "name": "stdout",
     "output_type": "stream",
     "text": [
      "Line_rs collection inserted into and_test_Line\n",
      "PowerTransformer_rs collection inserted into and_test_PowerTransformer\n",
      "Substation_supa collection inserted into and_test_Substation\n",
      "Substation_rs collection inserted into and_test_Substation\n",
      "PowerTransformer_supa collection inserted into and_test_PowerTransformer\n",
      "Line_supa collection inserted into and_test_Line\n"
     ]
    }
   ],
   "source": [
    "for file in files:\n",
    "    db_name = 'and_test_' + file['class']\n",
    "    col_name = f\"{file['class']}_{file['system']}\"\n",
    "\n",
    "    if file['system'] == 'rs':\n",
    "        columns2rename = params['RS_columns'][file['class']]\n",
    "        df = transform_rs(path=file['path'], \n",
    "                                equip_class=file['class'], \n",
    "                                columns2rename=columns2rename)\n",
    "        \n",
    "        insert_collection(db_name, col_name)\n",
    "\n",
    "    if file['system'] == 'supa':\n",
    "        df = transform_supa(path=file['path'])\n",
    "        insert_collection(db_name, col_name)"
   ]
  }
 ],
 "metadata": {
  "kernelspec": {
   "display_name": "base",
   "language": "python",
   "name": "python3"
  },
  "language_info": {
   "codemirror_mode": {
    "name": "ipython",
    "version": 3
   },
   "file_extension": ".py",
   "mimetype": "text/x-python",
   "name": "python",
   "nbconvert_exporter": "python",
   "pygments_lexer": "ipython3",
   "version": "3.11.5"
  }
 },
 "nbformat": 4,
 "nbformat_minor": 2
}
