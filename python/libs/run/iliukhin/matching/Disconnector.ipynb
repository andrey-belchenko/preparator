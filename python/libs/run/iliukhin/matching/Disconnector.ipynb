{
 "cells": [
  {
   "cell_type": "code",
   "execution_count": 1,
   "id": "cbf89119-95f8-44ff-a61c-05155ca4cd39",
   "metadata": {},
   "outputs": [],
   "source": [
    "import pandas as pd\n",
    "import re\n",
    "import yaml\n",
    "from data_io import load_data_from_db, insert_collection_into_db\n",
    "from merge import merge_by_key_column\n",
    "from tokenize import tokenize, NAME\n",
    "from io import BytesIO\n",
    "import warnings\n",
    "warnings.filterwarnings(\"ignore\")"
   ]
  },
  {
   "cell_type": "code",
   "execution_count": 2,
   "id": "5918054e-dbcc-424c-a7f4-4a152f37dc4a",
   "metadata": {},
   "outputs": [],
   "source": [
    "from collections import Counter\n",
    "pd.set_option('max_colwidth', 100)\n",
    "pd.set_option('display.max_columns', None)"
   ]
  },
  {
   "cell_type": "code",
   "execution_count": 3,
   "id": "afd992e9-bcd5-48a2-b4bf-2833b5410212",
   "metadata": {},
   "outputs": [],
   "source": [
    "with open('params.yml', 'r') as f:\n",
    "    params = yaml.full_load(f)"
   ]
  },
  {
   "cell_type": "code",
   "execution_count": 4,
   "id": "a5cb004f-28c9-4742-9949-f1e4c2bc5bf8",
   "metadata": {},
   "outputs": [],
   "source": [
    "pd.set_option('max_colwidth', 100)\n",
    "pd.set_option('display.max_columns', None)"
   ]
  },
  {
   "cell_type": "code",
   "execution_count": 5,
   "id": "b5abe399-da13-49ba-a1a7-64335fa63786",
   "metadata": {},
   "outputs": [],
   "source": [
    "# df = load_data_from_db('SomeClasses', params)[0]"
   ]
  },
  {
   "cell_type": "code",
   "execution_count": 6,
   "id": "289e8505-c852-4c15-8cf9-722a0ec8ba4b",
   "metadata": {},
   "outputs": [],
   "source": [
    "# def extract_Disconnector(text):\n",
    "#     text = text.split('_')\n",
    "#     if text[-1] in ['RAZ', 'OTDEL']:\n",
    "#             return True\n",
    "#     return None\n",
    "\n",
    "# df['is_Disconnector'] = df['Номер класса'].apply(extract_Disconnector)\n",
    "# df_Disconnector = df[df['is_Disconnector'] == True]\n",
    "# df_Disconnector"
   ]
  },
  {
   "cell_type": "code",
   "execution_count": 7,
   "id": "386e0955-1df4-46de-8134-23803f75d2bc",
   "metadata": {},
   "outputs": [],
   "source": [
    "# df_Disconnector['Техместо'].apply(lambda x: x.split('-')[2]).value_counts()"
   ]
  },
  {
   "cell_type": "code",
   "execution_count": 8,
   "id": "047b909f-9544-478d-940c-49d1cb3c2197",
   "metadata": {},
   "outputs": [],
   "source": [
    "# from pymongo import MongoClient\n",
    "\n",
    "# connection = MongoClient(params['mongo_connection'])\n",
    "# db_name = 'Disconnector'\n",
    "# collection_name = 'Disconnector_supa'\n",
    "# db = connection[db_name]\n",
    "# db.drop_collection(collection_name)\n",
    "# col = db[collection_name]\n",
    "# col.insert_many(df_Disconnector.to_dict('records'))\n",
    "# print(f'{collection_name} collection inserted into {db_name}')\n",
    "# connection.close()"
   ]
  },
  {
   "cell_type": "code",
   "execution_count": 9,
   "id": "c60fdbe8-4e09-4eb3-b152-399dbff337ab",
   "metadata": {},
   "outputs": [],
   "source": [
    "with open('params.yml', 'r') as f:\n",
    "    params = yaml.full_load(f)\n",
    "\n",
    "class_name = 'Disconnector'\n",
    "\n",
    "df_rs, df_supa, df_substations_matched = load_data_from_db(class_name, params)"
   ]
  },
  {
   "cell_type": "code",
   "execution_count": 10,
   "id": "d7d94c5d-8643-49d9-92d1-0f84a4425f17",
   "metadata": {},
   "outputs": [],
   "source": [
    "df_supa['voltage_level'] = df_supa['Техместо'].apply(lambda x: x.split('-')[2])\n",
    "df_supa = df_supa[df_supa['voltage_level'] == '12']"
   ]
  },
  {
   "cell_type": "code",
   "execution_count": 11,
   "id": "8d9922d1-b2e0-46c9-b322-019894d8e6d3",
   "metadata": {},
   "outputs": [
    {
     "data": {
      "text/html": [
       "<div>\n",
       "<style scoped>\n",
       "    .dataframe tbody tr th:only-of-type {\n",
       "        vertical-align: middle;\n",
       "    }\n",
       "\n",
       "    .dataframe tbody tr th {\n",
       "        vertical-align: top;\n",
       "    }\n",
       "\n",
       "    .dataframe thead th {\n",
       "        text-align: right;\n",
       "    }\n",
       "</style>\n",
       "<table border=\"1\" class=\"dataframe\">\n",
       "  <thead>\n",
       "    <tr style=\"text-align: right;\">\n",
       "      <th></th>\n",
       "      <th>_id</th>\n",
       "      <th>Uid</th>\n",
       "      <th>name</th>\n",
       "      <th>Класс</th>\n",
       "      <th>Substation_Uid</th>\n",
       "    </tr>\n",
       "  </thead>\n",
       "  <tbody>\n",
       "    <tr>\n",
       "      <th>0</th>\n",
       "      <td>65a905a8e81fe08a0863c98e</td>\n",
       "      <td>1e1acad9-7f9b-4d8c-af8f-9a96aceb6e3e</td>\n",
       "      <td>ОД-110 Т-1</td>\n",
       "      <td>Disconnector</td>\n",
       "      <td>ba49d093-26be-4338-9d1e-c755b90e3c07</td>\n",
       "    </tr>\n",
       "    <tr>\n",
       "      <th>1</th>\n",
       "      <td>65a905a8e81fe08a0863c98f</td>\n",
       "      <td>8e83f83f-2efd-4ab3-ae5e-a76dc0fd67be</td>\n",
       "      <td>ОД-110 Т-2</td>\n",
       "      <td>Disconnector</td>\n",
       "      <td>219ae2f8-a340-47b1-9938-7521371738ed</td>\n",
       "    </tr>\n",
       "    <tr>\n",
       "      <th>2</th>\n",
       "      <td>65a905a8e81fe08a0863c990</td>\n",
       "      <td>a4a4cd46-94ca-43f6-ae4b-4a687ec8c5e1</td>\n",
       "      <td>ОД-110 Т-1</td>\n",
       "      <td>Disconnector</td>\n",
       "      <td>4f2e7182-7342-4189-959c-7fbe7836e270</td>\n",
       "    </tr>\n",
       "    <tr>\n",
       "      <th>3</th>\n",
       "      <td>65a905a8e81fe08a0863c991</td>\n",
       "      <td>76b9e596-662d-4bb0-a45d-ad299d5444bd</td>\n",
       "      <td>ОД-110 Т-2</td>\n",
       "      <td>Disconnector</td>\n",
       "      <td>cda8518f-9181-4529-90d4-945e83460087</td>\n",
       "    </tr>\n",
       "    <tr>\n",
       "      <th>4</th>\n",
       "      <td>65a905a8e81fe08a0863c992</td>\n",
       "      <td>ecfbb7cd-6cc0-4aef-9739-819cf49e2706</td>\n",
       "      <td>ОД-110 Т-4</td>\n",
       "      <td>Disconnector</td>\n",
       "      <td>9d72ecc6-01e1-4ad7-8501-9c374900bb3f</td>\n",
       "    </tr>\n",
       "    <tr>\n",
       "      <th>5</th>\n",
       "      <td>65a905a8e81fe08a0863c993</td>\n",
       "      <td>bdeabdd2-f9a9-4fb3-b8df-a014b527225f</td>\n",
       "      <td>ОД-110 Т-2</td>\n",
       "      <td>Disconnector</td>\n",
       "      <td>1dce4318-c3a3-4d83-bc31-a479c8294c69</td>\n",
       "    </tr>\n",
       "    <tr>\n",
       "      <th>6</th>\n",
       "      <td>65a905a8e81fe08a0863c994</td>\n",
       "      <td>15d99ee5-388d-4728-84cf-bb5b02a40f0f</td>\n",
       "      <td>ОД-110 Т-2</td>\n",
       "      <td>Disconnector</td>\n",
       "      <td>3cacef3c-69bf-4339-8ff4-093c9ce3467a</td>\n",
       "    </tr>\n",
       "    <tr>\n",
       "      <th>7</th>\n",
       "      <td>65a905a8e81fe08a0863c995</td>\n",
       "      <td>b36446be-e2bf-4311-b97a-8d8f6e825cc9</td>\n",
       "      <td>ОД-110 Т-2</td>\n",
       "      <td>Disconnector</td>\n",
       "      <td>f7a47af6-6cef-4bba-b9e5-4e9199dfa12c</td>\n",
       "    </tr>\n",
       "    <tr>\n",
       "      <th>8</th>\n",
       "      <td>65a905a8e81fe08a0863c996</td>\n",
       "      <td>af64cc16-ce8a-404a-b8e9-bc648117d416</td>\n",
       "      <td>ОД-110 Т-1</td>\n",
       "      <td>Disconnector</td>\n",
       "      <td>f93f4042-2fa8-45e6-8131-ad746939dd31</td>\n",
       "    </tr>\n",
       "    <tr>\n",
       "      <th>9</th>\n",
       "      <td>65a905a8e81fe08a0863c997</td>\n",
       "      <td>d1badda0-9d75-41a0-a1dd-db511bbfed40</td>\n",
       "      <td>СОД-110-1</td>\n",
       "      <td>Disconnector</td>\n",
       "      <td>20c9f83d-02d5-4e08-8bdf-b1d1e69643f4</td>\n",
       "    </tr>\n",
       "  </tbody>\n",
       "</table>\n",
       "</div>"
      ],
      "text/plain": [
       "                        _id                                   Uid        name  \\\n",
       "0  65a905a8e81fe08a0863c98e  1e1acad9-7f9b-4d8c-af8f-9a96aceb6e3e  ОД-110 Т-1   \n",
       "1  65a905a8e81fe08a0863c98f  8e83f83f-2efd-4ab3-ae5e-a76dc0fd67be  ОД-110 Т-2   \n",
       "2  65a905a8e81fe08a0863c990  a4a4cd46-94ca-43f6-ae4b-4a687ec8c5e1  ОД-110 Т-1   \n",
       "3  65a905a8e81fe08a0863c991  76b9e596-662d-4bb0-a45d-ad299d5444bd  ОД-110 Т-2   \n",
       "4  65a905a8e81fe08a0863c992  ecfbb7cd-6cc0-4aef-9739-819cf49e2706  ОД-110 Т-4   \n",
       "5  65a905a8e81fe08a0863c993  bdeabdd2-f9a9-4fb3-b8df-a014b527225f  ОД-110 Т-2   \n",
       "6  65a905a8e81fe08a0863c994  15d99ee5-388d-4728-84cf-bb5b02a40f0f  ОД-110 Т-2   \n",
       "7  65a905a8e81fe08a0863c995  b36446be-e2bf-4311-b97a-8d8f6e825cc9  ОД-110 Т-2   \n",
       "8  65a905a8e81fe08a0863c996  af64cc16-ce8a-404a-b8e9-bc648117d416  ОД-110 Т-1   \n",
       "9  65a905a8e81fe08a0863c997  d1badda0-9d75-41a0-a1dd-db511bbfed40   СОД-110-1   \n",
       "\n",
       "          Класс                        Substation_Uid  \n",
       "0  Disconnector  ba49d093-26be-4338-9d1e-c755b90e3c07  \n",
       "1  Disconnector  219ae2f8-a340-47b1-9938-7521371738ed  \n",
       "2  Disconnector  4f2e7182-7342-4189-959c-7fbe7836e270  \n",
       "3  Disconnector  cda8518f-9181-4529-90d4-945e83460087  \n",
       "4  Disconnector  9d72ecc6-01e1-4ad7-8501-9c374900bb3f  \n",
       "5  Disconnector  1dce4318-c3a3-4d83-bc31-a479c8294c69  \n",
       "6  Disconnector  3cacef3c-69bf-4339-8ff4-093c9ce3467a  \n",
       "7  Disconnector  f7a47af6-6cef-4bba-b9e5-4e9199dfa12c  \n",
       "8  Disconnector  f93f4042-2fa8-45e6-8131-ad746939dd31  \n",
       "9  Disconnector  20c9f83d-02d5-4e08-8bdf-b1d1e69643f4  "
      ]
     },
     "metadata": {},
     "output_type": "display_data"
    },
    {
     "name": "stdout",
     "output_type": "stream",
     "text": [
      "<class 'pandas.core.frame.DataFrame'>\n",
      "RangeIndex: 8320 entries, 0 to 8319\n",
      "Data columns (total 5 columns):\n",
      " #   Column          Non-Null Count  Dtype \n",
      "---  ------          --------------  ----- \n",
      " 0   _id             8320 non-null   object\n",
      " 1   Uid             8320 non-null   object\n",
      " 2   name            8320 non-null   object\n",
      " 3   Класс           8319 non-null   object\n",
      " 4   Substation_Uid  8299 non-null   object\n",
      "dtypes: object(5)\n",
      "memory usage: 325.1+ KB\n"
     ]
    },
    {
     "data": {
      "text/plain": [
       "None"
      ]
     },
     "metadata": {},
     "output_type": "display_data"
    },
    {
     "name": "stdout",
     "output_type": "stream",
     "text": [
      "----------\n"
     ]
    },
    {
     "data": {
      "text/html": [
       "<div>\n",
       "<style scoped>\n",
       "    .dataframe tbody tr th:only-of-type {\n",
       "        vertical-align: middle;\n",
       "    }\n",
       "\n",
       "    .dataframe tbody tr th {\n",
       "        vertical-align: top;\n",
       "    }\n",
       "\n",
       "    .dataframe thead th {\n",
       "        text-align: right;\n",
       "    }\n",
       "</style>\n",
       "<table border=\"1\" class=\"dataframe\">\n",
       "  <thead>\n",
       "    <tr style=\"text-align: right;\">\n",
       "      <th></th>\n",
       "      <th>_id</th>\n",
       "      <th>Техместо</th>\n",
       "      <th>Диспетчерское наименование</th>\n",
       "      <th>Название</th>\n",
       "      <th>Местоположение</th>\n",
       "      <th>Номер класса</th>\n",
       "      <th>Верхнее ТМ</th>\n",
       "      <th>Район</th>\n",
       "      <th>is_Disconnector</th>\n",
       "      <th>voltage_level</th>\n",
       "    </tr>\n",
       "  </thead>\n",
       "  <tbody>\n",
       "    <tr>\n",
       "      <th>0</th>\n",
       "      <td>65a794ecf07a9af91d55276d</td>\n",
       "      <td>PS110-000028-12-01-001-21</td>\n",
       "      <td>ЛР-131</td>\n",
       "      <td>ЛР-131</td>\n",
       "      <td>310020100</td>\n",
       "      <td>PS_12_01_001_RAZ</td>\n",
       "      <td>PS110-000028</td>\n",
       "      <td>Советский</td>\n",
       "      <td>True</td>\n",
       "      <td>12</td>\n",
       "    </tr>\n",
       "    <tr>\n",
       "      <th>1</th>\n",
       "      <td>65a794ecf07a9af91d552770</td>\n",
       "      <td>PS110-000028-12-01-002-21</td>\n",
       "      <td>ЛР-133</td>\n",
       "      <td>ЛР-133</td>\n",
       "      <td>310020100</td>\n",
       "      <td>PS_12_01_001_RAZ</td>\n",
       "      <td>PS110-000028</td>\n",
       "      <td>Советский</td>\n",
       "      <td>True</td>\n",
       "      <td>12</td>\n",
       "    </tr>\n",
       "    <tr>\n",
       "      <th>2</th>\n",
       "      <td>65a794ecf07a9af91d552774</td>\n",
       "      <td>PS110-000028-12-01-201-21</td>\n",
       "      <td>ТР-110-3Т</td>\n",
       "      <td>ТР-110-3Т</td>\n",
       "      <td>310020100</td>\n",
       "      <td>PS_12_01_201_RAZ</td>\n",
       "      <td>PS110-000028</td>\n",
       "      <td>Советский</td>\n",
       "      <td>True</td>\n",
       "      <td>12</td>\n",
       "    </tr>\n",
       "    <tr>\n",
       "      <th>44</th>\n",
       "      <td>65a794ecf07a9af91d5527da</td>\n",
       "      <td>PS110-000029-12-01-001-21</td>\n",
       "      <td>ЛР-136</td>\n",
       "      <td>ЛР-136</td>\n",
       "      <td>310020100</td>\n",
       "      <td>PS_12_01_001_RAZ</td>\n",
       "      <td>PS110-000029</td>\n",
       "      <td>Железножорожный</td>\n",
       "      <td>True</td>\n",
       "      <td>12</td>\n",
       "    </tr>\n",
       "    <tr>\n",
       "      <th>45</th>\n",
       "      <td>65a794ecf07a9af91d5527e0</td>\n",
       "      <td>PS110-000029-12-01-201-21</td>\n",
       "      <td>ТР-110-1Т</td>\n",
       "      <td>ТР-110-1Т</td>\n",
       "      <td>310020100</td>\n",
       "      <td>PS_12_01_201_RAZ</td>\n",
       "      <td>PS110-000029</td>\n",
       "      <td>Железножорожный</td>\n",
       "      <td>True</td>\n",
       "      <td>12</td>\n",
       "    </tr>\n",
       "    <tr>\n",
       "      <th>46</th>\n",
       "      <td>65a794ecf07a9af91d5527e1</td>\n",
       "      <td>PS110-000029-12-02-001-21</td>\n",
       "      <td>ЛР-137</td>\n",
       "      <td>ЛР-137</td>\n",
       "      <td>310020100</td>\n",
       "      <td>PS_12_01_001_RAZ</td>\n",
       "      <td>PS110-000029</td>\n",
       "      <td>Железножорожный</td>\n",
       "      <td>True</td>\n",
       "      <td>12</td>\n",
       "    </tr>\n",
       "    <tr>\n",
       "      <th>47</th>\n",
       "      <td>65a794ecf07a9af91d5527e6</td>\n",
       "      <td>PS110-000029-12-02-201-21</td>\n",
       "      <td>ТР-110-2Т</td>\n",
       "      <td>ТР-110-2Т</td>\n",
       "      <td>310020100</td>\n",
       "      <td>PS_12_01_201_RAZ</td>\n",
       "      <td>PS110-000029</td>\n",
       "      <td>Железножорожный</td>\n",
       "      <td>True</td>\n",
       "      <td>12</td>\n",
       "    </tr>\n",
       "    <tr>\n",
       "      <th>48</th>\n",
       "      <td>65a794ecf07a9af91d5527eb</td>\n",
       "      <td>PS110-000029-12-29-321</td>\n",
       "      <td>РР-110-1</td>\n",
       "      <td>РР-110-1</td>\n",
       "      <td>310020100</td>\n",
       "      <td>PS_12_29_RAZ</td>\n",
       "      <td>PS110-000029</td>\n",
       "      <td>Железножорожный</td>\n",
       "      <td>True</td>\n",
       "      <td>12</td>\n",
       "    </tr>\n",
       "    <tr>\n",
       "      <th>49</th>\n",
       "      <td>65a794ecf07a9af91d5527ed</td>\n",
       "      <td>PS110-000029-12-29-322</td>\n",
       "      <td>РР-110-2</td>\n",
       "      <td>РР-110-2</td>\n",
       "      <td>310020100</td>\n",
       "      <td>PS_12_29_RAZ</td>\n",
       "      <td>PS110-000029</td>\n",
       "      <td>Железножорожный</td>\n",
       "      <td>True</td>\n",
       "      <td>12</td>\n",
       "    </tr>\n",
       "    <tr>\n",
       "      <th>78</th>\n",
       "      <td>65a794ecf07a9af91d55283f</td>\n",
       "      <td>PS110-000030-12-01-001-21</td>\n",
       "      <td>ЛР-133</td>\n",
       "      <td>ЛР-133</td>\n",
       "      <td>310020100</td>\n",
       "      <td>PS_12_01_001_RAZ</td>\n",
       "      <td>PS110-000030</td>\n",
       "      <td>Железнодорожный</td>\n",
       "      <td>True</td>\n",
       "      <td>12</td>\n",
       "    </tr>\n",
       "  </tbody>\n",
       "</table>\n",
       "</div>"
      ],
      "text/plain": [
       "                         _id                   Техместо  \\\n",
       "0   65a794ecf07a9af91d55276d  PS110-000028-12-01-001-21   \n",
       "1   65a794ecf07a9af91d552770  PS110-000028-12-01-002-21   \n",
       "2   65a794ecf07a9af91d552774  PS110-000028-12-01-201-21   \n",
       "44  65a794ecf07a9af91d5527da  PS110-000029-12-01-001-21   \n",
       "45  65a794ecf07a9af91d5527e0  PS110-000029-12-01-201-21   \n",
       "46  65a794ecf07a9af91d5527e1  PS110-000029-12-02-001-21   \n",
       "47  65a794ecf07a9af91d5527e6  PS110-000029-12-02-201-21   \n",
       "48  65a794ecf07a9af91d5527eb     PS110-000029-12-29-321   \n",
       "49  65a794ecf07a9af91d5527ed     PS110-000029-12-29-322   \n",
       "78  65a794ecf07a9af91d55283f  PS110-000030-12-01-001-21   \n",
       "\n",
       "   Диспетчерское наименование   Название  Местоположение      Номер класса  \\\n",
       "0                      ЛР-131     ЛР-131       310020100  PS_12_01_001_RAZ   \n",
       "1                      ЛР-133     ЛР-133       310020100  PS_12_01_001_RAZ   \n",
       "2                   ТР-110-3Т  ТР-110-3Т       310020100  PS_12_01_201_RAZ   \n",
       "44                     ЛР-136     ЛР-136       310020100  PS_12_01_001_RAZ   \n",
       "45                  ТР-110-1Т  ТР-110-1Т       310020100  PS_12_01_201_RAZ   \n",
       "46                     ЛР-137     ЛР-137       310020100  PS_12_01_001_RAZ   \n",
       "47                  ТР-110-2Т  ТР-110-2Т       310020100  PS_12_01_201_RAZ   \n",
       "48                   РР-110-1   РР-110-1       310020100      PS_12_29_RAZ   \n",
       "49                   РР-110-2   РР-110-2       310020100      PS_12_29_RAZ   \n",
       "78                     ЛР-133     ЛР-133       310020100  PS_12_01_001_RAZ   \n",
       "\n",
       "      Верхнее ТМ            Район  is_Disconnector voltage_level  \n",
       "0   PS110-000028        Советский             True            12  \n",
       "1   PS110-000028        Советский             True            12  \n",
       "2   PS110-000028        Советский             True            12  \n",
       "44  PS110-000029  Железножорожный             True            12  \n",
       "45  PS110-000029  Железножорожный             True            12  \n",
       "46  PS110-000029  Железножорожный             True            12  \n",
       "47  PS110-000029  Железножорожный             True            12  \n",
       "48  PS110-000029  Железножорожный             True            12  \n",
       "49  PS110-000029  Железножорожный             True            12  \n",
       "78  PS110-000030  Железнодорожный             True            12  "
      ]
     },
     "metadata": {},
     "output_type": "display_data"
    },
    {
     "name": "stdout",
     "output_type": "stream",
     "text": [
      "<class 'pandas.core.frame.DataFrame'>\n",
      "Index: 6132 entries, 0 to 13728\n",
      "Data columns (total 10 columns):\n",
      " #   Column                      Non-Null Count  Dtype \n",
      "---  ------                      --------------  ----- \n",
      " 0   _id                         6132 non-null   object\n",
      " 1   Техместо                    6132 non-null   object\n",
      " 2   Диспетчерское наименование  4604 non-null   object\n",
      " 3   Название                    6132 non-null   object\n",
      " 4   Местоположение              6132 non-null   int64 \n",
      " 5   Номер класса                6132 non-null   object\n",
      " 6   Верхнее ТМ                  6132 non-null   object\n",
      " 7   Район                       1211 non-null   object\n",
      " 8   is_Disconnector             6132 non-null   bool  \n",
      " 9   voltage_level               6132 non-null   object\n",
      "dtypes: bool(1), int64(1), object(8)\n",
      "memory usage: 485.1+ KB\n"
     ]
    },
    {
     "data": {
      "text/plain": [
       "None"
      ]
     },
     "metadata": {},
     "output_type": "display_data"
    },
    {
     "name": "stdout",
     "output_type": "stream",
     "text": [
      "----------\n"
     ]
    },
    {
     "data": {
      "text/html": [
       "<div>\n",
       "<style scoped>\n",
       "    .dataframe tbody tr th:only-of-type {\n",
       "        vertical-align: middle;\n",
       "    }\n",
       "\n",
       "    .dataframe tbody tr th {\n",
       "        vertical-align: top;\n",
       "    }\n",
       "\n",
       "    .dataframe thead th {\n",
       "        text-align: right;\n",
       "    }\n",
       "</style>\n",
       "<table border=\"1\" class=\"dataframe\">\n",
       "  <thead>\n",
       "    <tr style=\"text-align: right;\">\n",
       "      <th></th>\n",
       "      <th>_id</th>\n",
       "      <th>Uid</th>\n",
       "      <th>Техместо</th>\n",
       "      <th>Наименование</th>\n",
       "      <th>Диспетчерское наименование</th>\n",
       "      <th>Класс</th>\n",
       "    </tr>\n",
       "  </thead>\n",
       "  <tbody>\n",
       "    <tr>\n",
       "      <th>0</th>\n",
       "      <td>65a9950923f335544b44a09e</td>\n",
       "      <td>000fe64c-7b85-4bea-9ada-3e514d968485</td>\n",
       "      <td>PS110-000516</td>\n",
       "      <td>ПС 110 кВ Уропская</td>\n",
       "      <td>ПС 110 кВ Уропская</td>\n",
       "      <td>Substation</td>\n",
       "    </tr>\n",
       "    <tr>\n",
       "      <th>1</th>\n",
       "      <td>65a9950923f335544b44a09f</td>\n",
       "      <td>011f18d7-614e-4945-8bf8-81964a8c6a9f</td>\n",
       "      <td>PS110-001024</td>\n",
       "      <td>ПС 110 кВ Потаскуй</td>\n",
       "      <td>ПС 110 кВ Потаскуй</td>\n",
       "      <td>Substation</td>\n",
       "    </tr>\n",
       "    <tr>\n",
       "      <th>2</th>\n",
       "      <td>65a9950923f335544b44a0a0</td>\n",
       "      <td>01628ca3-8af1-4d26-84c3-52ee6c0f1adc</td>\n",
       "      <td>PS110-000253</td>\n",
       "      <td>ПС 110 кВ Пригородная</td>\n",
       "      <td>ПС 110 кВ Пригородная</td>\n",
       "      <td>Substation</td>\n",
       "    </tr>\n",
       "    <tr>\n",
       "      <th>3</th>\n",
       "      <td>65a9950923f335544b44a0a1</td>\n",
       "      <td>018c4cfb-1f78-41e9-8e40-001a41114299</td>\n",
       "      <td>PS110-000519</td>\n",
       "      <td>ПС 110 кВ Городская</td>\n",
       "      <td>ПС 110 кВ Городская</td>\n",
       "      <td>Substation</td>\n",
       "    </tr>\n",
       "    <tr>\n",
       "      <th>4</th>\n",
       "      <td>65a9950923f335544b44a0a2</td>\n",
       "      <td>0193398d-8d84-40d9-8520-2f8ea56bf5e9</td>\n",
       "      <td>PS110-000294</td>\n",
       "      <td>ПС 110 кВ Коробейниково</td>\n",
       "      <td>ПС 110 кВ Коробейниково</td>\n",
       "      <td>Substation</td>\n",
       "    </tr>\n",
       "    <tr>\n",
       "      <th>5</th>\n",
       "      <td>65a9950923f335544b44a0a3</td>\n",
       "      <td>01d27eab-6a9e-41ba-9614-a782a63b430b</td>\n",
       "      <td>PS110-000268</td>\n",
       "      <td>ПС 110 кВ Опорная</td>\n",
       "      <td>ПС 110 кВ Опорная</td>\n",
       "      <td>Substation</td>\n",
       "    </tr>\n",
       "    <tr>\n",
       "      <th>6</th>\n",
       "      <td>65a9950923f335544b44a0a4</td>\n",
       "      <td>02697fc5-c1c1-4b96-a808-a905916b8feb</td>\n",
       "      <td>PS110-000008</td>\n",
       "      <td>ПС 110 кВ Гусиноозерская</td>\n",
       "      <td>ПС 110 кВ Гусиноозерская</td>\n",
       "      <td>Substation</td>\n",
       "    </tr>\n",
       "    <tr>\n",
       "      <th>7</th>\n",
       "      <td>65a9950923f335544b44a0a5</td>\n",
       "      <td>02b970fd-165b-4da9-9807-c8f21ee9b221</td>\n",
       "      <td>PS110-000387</td>\n",
       "      <td>ПС 110 кВ Затонская</td>\n",
       "      <td>ПС 110 кВ Затонская</td>\n",
       "      <td>Substation</td>\n",
       "    </tr>\n",
       "    <tr>\n",
       "      <th>8</th>\n",
       "      <td>65a9950923f335544b44a0a6</td>\n",
       "      <td>0355728d-e712-4133-97e2-0c3cbe4ef79c</td>\n",
       "      <td>PS110-001242</td>\n",
       "      <td>ПС 110 кВ Полярная</td>\n",
       "      <td>None</td>\n",
       "      <td>Substation</td>\n",
       "    </tr>\n",
       "    <tr>\n",
       "      <th>9</th>\n",
       "      <td>65a9950923f335544b44a0a7</td>\n",
       "      <td>037bf15d-c151-4d3d-938a-076a5e1d25f2</td>\n",
       "      <td>PS110-000807</td>\n",
       "      <td>ПС 110 кВ Орловский ГОК</td>\n",
       "      <td>ПС 110 кВ Орловский ГОК</td>\n",
       "      <td>Substation</td>\n",
       "    </tr>\n",
       "  </tbody>\n",
       "</table>\n",
       "</div>"
      ],
      "text/plain": [
       "                        _id                                   Uid  \\\n",
       "0  65a9950923f335544b44a09e  000fe64c-7b85-4bea-9ada-3e514d968485   \n",
       "1  65a9950923f335544b44a09f  011f18d7-614e-4945-8bf8-81964a8c6a9f   \n",
       "2  65a9950923f335544b44a0a0  01628ca3-8af1-4d26-84c3-52ee6c0f1adc   \n",
       "3  65a9950923f335544b44a0a1  018c4cfb-1f78-41e9-8e40-001a41114299   \n",
       "4  65a9950923f335544b44a0a2  0193398d-8d84-40d9-8520-2f8ea56bf5e9   \n",
       "5  65a9950923f335544b44a0a3  01d27eab-6a9e-41ba-9614-a782a63b430b   \n",
       "6  65a9950923f335544b44a0a4  02697fc5-c1c1-4b96-a808-a905916b8feb   \n",
       "7  65a9950923f335544b44a0a5  02b970fd-165b-4da9-9807-c8f21ee9b221   \n",
       "8  65a9950923f335544b44a0a6  0355728d-e712-4133-97e2-0c3cbe4ef79c   \n",
       "9  65a9950923f335544b44a0a7  037bf15d-c151-4d3d-938a-076a5e1d25f2   \n",
       "\n",
       "       Техместо              Наименование Диспетчерское наименование  \\\n",
       "0  PS110-000516        ПС 110 кВ Уропская         ПС 110 кВ Уропская   \n",
       "1  PS110-001024        ПС 110 кВ Потаскуй         ПС 110 кВ Потаскуй   \n",
       "2  PS110-000253     ПС 110 кВ Пригородная      ПС 110 кВ Пригородная   \n",
       "3  PS110-000519       ПС 110 кВ Городская        ПС 110 кВ Городская   \n",
       "4  PS110-000294   ПС 110 кВ Коробейниково    ПС 110 кВ Коробейниково   \n",
       "5  PS110-000268         ПС 110 кВ Опорная          ПС 110 кВ Опорная   \n",
       "6  PS110-000008  ПС 110 кВ Гусиноозерская   ПС 110 кВ Гусиноозерская   \n",
       "7  PS110-000387       ПС 110 кВ Затонская        ПС 110 кВ Затонская   \n",
       "8  PS110-001242        ПС 110 кВ Полярная                       None   \n",
       "9  PS110-000807   ПС 110 кВ Орловский ГОК    ПС 110 кВ Орловский ГОК   \n",
       "\n",
       "        Класс  \n",
       "0  Substation  \n",
       "1  Substation  \n",
       "2  Substation  \n",
       "3  Substation  \n",
       "4  Substation  \n",
       "5  Substation  \n",
       "6  Substation  \n",
       "7  Substation  \n",
       "8  Substation  \n",
       "9  Substation  "
      ]
     },
     "metadata": {},
     "output_type": "display_data"
    },
    {
     "name": "stdout",
     "output_type": "stream",
     "text": [
      "<class 'pandas.core.frame.DataFrame'>\n",
      "RangeIndex: 822 entries, 0 to 821\n",
      "Data columns (total 6 columns):\n",
      " #   Column                      Non-Null Count  Dtype \n",
      "---  ------                      --------------  ----- \n",
      " 0   _id                         822 non-null    object\n",
      " 1   Uid                         822 non-null    object\n",
      " 2   Техместо                    822 non-null    object\n",
      " 3   Наименование                822 non-null    object\n",
      " 4   Диспетчерское наименование  818 non-null    object\n",
      " 5   Класс                       822 non-null    object\n",
      "dtypes: object(6)\n",
      "memory usage: 38.7+ KB\n"
     ]
    },
    {
     "data": {
      "text/plain": [
       "None"
      ]
     },
     "metadata": {},
     "output_type": "display_data"
    },
    {
     "name": "stdout",
     "output_type": "stream",
     "text": [
      "----------\n"
     ]
    }
   ],
   "source": [
    "for df in [df_rs, df_supa, df_substations_matched]:\n",
    "    display(df.head(10))\n",
    "    display(df.info())\n",
    "    print('-'*10)"
   ]
  },
  {
   "cell_type": "markdown",
   "id": "f7bf69f1-dfdb-4c5b-9a30-b82ca49e3a18",
   "metadata": {},
   "source": [
    "# Берем Техместо из ПС (ранее сопоставленных). Кладем в RS20"
   ]
  },
  {
   "cell_type": "code",
   "execution_count": 12,
   "id": "01386a2e-2a03-4f91-92ea-79c8223e107d",
   "metadata": {},
   "outputs": [
    {
     "name": "stdout",
     "output_type": "stream",
     "text": [
      "Между сопоставленными ПС и СУПА PowerTransformer общих по Техместу ПС: 808\n",
      "Между сопоставленными ПС и RS20 PowerTransformer общих по Uid ПС: 815\n"
     ]
    }
   ],
   "source": [
    "techplace_substations_matched = set(df_substations_matched['Техместо'].tolist())\n",
    "techplace_substations_supa = set(df_supa['Верхнее ТМ'].tolist())\n",
    "print('Между сопоставленными ПС и СУПА PowerTransformer общих по Техместу ПС:', len(techplace_substations_matched & techplace_substations_supa))\n",
    "\n",
    "uid_substations_matched = set(df_substations_matched['Uid'].tolist())\n",
    "uid_substations_rs = set(df_rs['Substation_Uid'].tolist())\n",
    "print('Между сопоставленными ПС и RS20 PowerTransformer общих по Uid ПС:', len(uid_substations_matched & uid_substations_rs))"
   ]
  },
  {
   "cell_type": "code",
   "execution_count": 13,
   "id": "38c5f523-4b09-42e1-ad68-30fd83a9d706",
   "metadata": {},
   "outputs": [
    {
     "name": "stdout",
     "output_type": "stream",
     "text": [
      "None: 123\n"
     ]
    },
    {
     "data": {
      "text/html": [
       "<div>\n",
       "<style scoped>\n",
       "    .dataframe tbody tr th:only-of-type {\n",
       "        vertical-align: middle;\n",
       "    }\n",
       "\n",
       "    .dataframe tbody tr th {\n",
       "        vertical-align: top;\n",
       "    }\n",
       "\n",
       "    .dataframe thead th {\n",
       "        text-align: right;\n",
       "    }\n",
       "</style>\n",
       "<table border=\"1\" class=\"dataframe\">\n",
       "  <thead>\n",
       "    <tr style=\"text-align: right;\">\n",
       "      <th></th>\n",
       "      <th>_id</th>\n",
       "      <th>Uid</th>\n",
       "      <th>name</th>\n",
       "      <th>Класс</th>\n",
       "      <th>Substation_Uid</th>\n",
       "      <th>Техместо_ПС</th>\n",
       "    </tr>\n",
       "  </thead>\n",
       "  <tbody>\n",
       "    <tr>\n",
       "      <th>0</th>\n",
       "      <td>65a905a8e81fe08a0863c98e</td>\n",
       "      <td>1e1acad9-7f9b-4d8c-af8f-9a96aceb6e3e</td>\n",
       "      <td>ОД-110 Т-1</td>\n",
       "      <td>Disconnector</td>\n",
       "      <td>ba49d093-26be-4338-9d1e-c755b90e3c07</td>\n",
       "      <td>PS110-000090</td>\n",
       "    </tr>\n",
       "    <tr>\n",
       "      <th>1</th>\n",
       "      <td>65a905a8e81fe08a0863c98f</td>\n",
       "      <td>8e83f83f-2efd-4ab3-ae5e-a76dc0fd67be</td>\n",
       "      <td>ОД-110 Т-2</td>\n",
       "      <td>Disconnector</td>\n",
       "      <td>219ae2f8-a340-47b1-9938-7521371738ed</td>\n",
       "      <td>PS110-000287</td>\n",
       "    </tr>\n",
       "    <tr>\n",
       "      <th>2</th>\n",
       "      <td>65a905a8e81fe08a0863c990</td>\n",
       "      <td>a4a4cd46-94ca-43f6-ae4b-4a687ec8c5e1</td>\n",
       "      <td>ОД-110 Т-1</td>\n",
       "      <td>Disconnector</td>\n",
       "      <td>4f2e7182-7342-4189-959c-7fbe7836e270</td>\n",
       "      <td>PS110-000242</td>\n",
       "    </tr>\n",
       "    <tr>\n",
       "      <th>3</th>\n",
       "      <td>65a905a8e81fe08a0863c991</td>\n",
       "      <td>76b9e596-662d-4bb0-a45d-ad299d5444bd</td>\n",
       "      <td>ОД-110 Т-2</td>\n",
       "      <td>Disconnector</td>\n",
       "      <td>cda8518f-9181-4529-90d4-945e83460087</td>\n",
       "      <td>PS110-000007</td>\n",
       "    </tr>\n",
       "    <tr>\n",
       "      <th>4</th>\n",
       "      <td>65a905a8e81fe08a0863c992</td>\n",
       "      <td>ecfbb7cd-6cc0-4aef-9739-819cf49e2706</td>\n",
       "      <td>ОД-110 Т-4</td>\n",
       "      <td>Disconnector</td>\n",
       "      <td>9d72ecc6-01e1-4ad7-8501-9c374900bb3f</td>\n",
       "      <td>PS110-000153</td>\n",
       "    </tr>\n",
       "    <tr>\n",
       "      <th>...</th>\n",
       "      <td>...</td>\n",
       "      <td>...</td>\n",
       "      <td>...</td>\n",
       "      <td>...</td>\n",
       "      <td>...</td>\n",
       "      <td>...</td>\n",
       "    </tr>\n",
       "    <tr>\n",
       "      <th>8315</th>\n",
       "      <td>65a905a8e81fe08a0863ea09</td>\n",
       "      <td>a9e685a3-374d-49db-8af5-a835f86435ba</td>\n",
       "      <td>ШР-110-02</td>\n",
       "      <td>Disconnector</td>\n",
       "      <td>42ee08ce-a7d0-41fe-b121-f1876707fe9f</td>\n",
       "      <td>PS110-001044</td>\n",
       "    </tr>\n",
       "    <tr>\n",
       "      <th>8316</th>\n",
       "      <td>65a905a8e81fe08a0863ea0a</td>\n",
       "      <td>4fc1951c-a54a-411d-9a4c-3bc6bc5e60bb</td>\n",
       "      <td>МР-110-2</td>\n",
       "      <td>Disconnector</td>\n",
       "      <td>5b99744a-17cd-4ae9-b421-647e4e998747</td>\n",
       "      <td>PS110-000789</td>\n",
       "    </tr>\n",
       "    <tr>\n",
       "      <th>8317</th>\n",
       "      <td>65a905a8e81fe08a0863ea0b</td>\n",
       "      <td>7ed9385c-9980-4227-867d-58fa217232eb</td>\n",
       "      <td>МР-110-1</td>\n",
       "      <td>Disconnector</td>\n",
       "      <td>5b99744a-17cd-4ae9-b421-647e4e998747</td>\n",
       "      <td>PS110-000789</td>\n",
       "    </tr>\n",
       "    <tr>\n",
       "      <th>8318</th>\n",
       "      <td>65a905a8e81fe08a0863ea0c</td>\n",
       "      <td>6f32c7b2-bcd3-4826-a593-01aa5443f96b</td>\n",
       "      <td>ОД-110-Т-2</td>\n",
       "      <td>Disconnector</td>\n",
       "      <td>5b99744a-17cd-4ae9-b421-647e4e998747</td>\n",
       "      <td>PS110-000789</td>\n",
       "    </tr>\n",
       "    <tr>\n",
       "      <th>8319</th>\n",
       "      <td>65a905a8e81fe08a0863ea0d</td>\n",
       "      <td>2794e979-42ae-4531-a90d-3f0383e3a74e</td>\n",
       "      <td>ЛР-110-05</td>\n",
       "      <td>Disconnector</td>\n",
       "      <td>5b99744a-17cd-4ae9-b421-647e4e998747</td>\n",
       "      <td>PS110-000789</td>\n",
       "    </tr>\n",
       "  </tbody>\n",
       "</table>\n",
       "<p>8320 rows × 6 columns</p>\n",
       "</div>"
      ],
      "text/plain": [
       "                           _id                                   Uid  \\\n",
       "0     65a905a8e81fe08a0863c98e  1e1acad9-7f9b-4d8c-af8f-9a96aceb6e3e   \n",
       "1     65a905a8e81fe08a0863c98f  8e83f83f-2efd-4ab3-ae5e-a76dc0fd67be   \n",
       "2     65a905a8e81fe08a0863c990  a4a4cd46-94ca-43f6-ae4b-4a687ec8c5e1   \n",
       "3     65a905a8e81fe08a0863c991  76b9e596-662d-4bb0-a45d-ad299d5444bd   \n",
       "4     65a905a8e81fe08a0863c992  ecfbb7cd-6cc0-4aef-9739-819cf49e2706   \n",
       "...                        ...                                   ...   \n",
       "8315  65a905a8e81fe08a0863ea09  a9e685a3-374d-49db-8af5-a835f86435ba   \n",
       "8316  65a905a8e81fe08a0863ea0a  4fc1951c-a54a-411d-9a4c-3bc6bc5e60bb   \n",
       "8317  65a905a8e81fe08a0863ea0b  7ed9385c-9980-4227-867d-58fa217232eb   \n",
       "8318  65a905a8e81fe08a0863ea0c  6f32c7b2-bcd3-4826-a593-01aa5443f96b   \n",
       "8319  65a905a8e81fe08a0863ea0d  2794e979-42ae-4531-a90d-3f0383e3a74e   \n",
       "\n",
       "            name         Класс                        Substation_Uid  \\\n",
       "0     ОД-110 Т-1  Disconnector  ba49d093-26be-4338-9d1e-c755b90e3c07   \n",
       "1     ОД-110 Т-2  Disconnector  219ae2f8-a340-47b1-9938-7521371738ed   \n",
       "2     ОД-110 Т-1  Disconnector  4f2e7182-7342-4189-959c-7fbe7836e270   \n",
       "3     ОД-110 Т-2  Disconnector  cda8518f-9181-4529-90d4-945e83460087   \n",
       "4     ОД-110 Т-4  Disconnector  9d72ecc6-01e1-4ad7-8501-9c374900bb3f   \n",
       "...          ...           ...                                   ...   \n",
       "8315   ШР-110-02  Disconnector  42ee08ce-a7d0-41fe-b121-f1876707fe9f   \n",
       "8316    МР-110-2  Disconnector  5b99744a-17cd-4ae9-b421-647e4e998747   \n",
       "8317    МР-110-1  Disconnector  5b99744a-17cd-4ae9-b421-647e4e998747   \n",
       "8318  ОД-110-Т-2  Disconnector  5b99744a-17cd-4ae9-b421-647e4e998747   \n",
       "8319   ЛР-110-05  Disconnector  5b99744a-17cd-4ae9-b421-647e4e998747   \n",
       "\n",
       "       Техместо_ПС  \n",
       "0     PS110-000090  \n",
       "1     PS110-000287  \n",
       "2     PS110-000242  \n",
       "3     PS110-000007  \n",
       "4     PS110-000153  \n",
       "...            ...  \n",
       "8315  PS110-001044  \n",
       "8316  PS110-000789  \n",
       "8317  PS110-000789  \n",
       "8318  PS110-000789  \n",
       "8319  PS110-000789  \n",
       "\n",
       "[8320 rows x 6 columns]"
      ]
     },
     "execution_count": 13,
     "metadata": {},
     "output_type": "execute_result"
    }
   ],
   "source": [
    "uid2techplace = dict(zip(df_substations_matched['Uid'], df_substations_matched['Техместо']))\n",
    "test = []\n",
    "for key in uid2techplace.keys():\n",
    "    test.append(uid2techplace[key] == df_substations_matched[df_substations_matched['Uid'] == key]['Техместо'].values[0])\n",
    "\n",
    "assert all(test) == True\n",
    "df_rs['Техместо_ПС'] = df_rs['Substation_Uid'].apply(lambda x: uid2techplace.get(x))\n",
    "print('None:', df_rs['Техместо_ПС'].isna().sum())\n",
    "df_rs"
   ]
  },
  {
   "cell_type": "code",
   "execution_count": 14,
   "id": "98908993-0795-43e9-91d2-1dab5d0736ca",
   "metadata": {},
   "outputs": [
    {
     "data": {
      "text/plain": [
       "1431"
      ]
     },
     "execution_count": 14,
     "metadata": {},
     "output_type": "execute_result"
    }
   ],
   "source": [
    "# display(df_rs['name'].unique().tolist())\n",
    "# display(df_supa['Название'].unique().tolist())\n",
    "# display(df_supa['Диспетчерское наименование'].unique().tolist())\n",
    "\n",
    "len(set(df_rs['name'].unique()) & set(df_supa['Название'].unique()))\n",
    "# set(df_supa['Диспетчерское наименование'].unique())"
   ]
  },
  {
   "cell_type": "code",
   "execution_count": 15,
   "id": "d7b0cd62-f864-4811-80af-09a7598d7d45",
   "metadata": {},
   "outputs": [],
   "source": [
    "def name_norm(text):\n",
    "    if isinstance(text, str):\n",
    "        text = text.lower()\n",
    "        chars2remove = [' ', '-', '_', 'разъединитель', \n",
    "                        '110кв', '110', '/', '\\\\', '.', ',', \n",
    "                        'секш', 'ввод', 'ввода', 'сек', \n",
    "                        'вл', '\"', \n",
    "                        'сш.', 'сш', 'шр', 'т-'\n",
    "                       ]\n",
    "        for char in chars2remove:\n",
    "            text = text.replace(char, '')\n",
    "        text = text.replace('II', '2').replace('I', '1').replace('c', 'с').replace('зт', '3т').replace('мср', 'ср')\n",
    "    return text\n",
    "\n",
    "df_supa['name_norm'] = df_supa['Название'].apply(name_norm)\n",
    "# df_supa['name_norm'] = df_supa['Диспетчерское наименование'].apply(name_norm)\n",
    "df_rs['name_norm'] = df_rs['name'].apply(name_norm)"
   ]
  },
  {
   "cell_type": "code",
   "execution_count": 16,
   "id": "632ef47c-a6c4-4b96-9cac-e8b9bcf35f5d",
   "metadata": {},
   "outputs": [
    {
     "name": "stdout",
     "output_type": "stream",
     "text": [
      "3018\n"
     ]
    },
    {
     "data": {
      "text/plain": [
       "2988"
      ]
     },
     "execution_count": 16,
     "metadata": {},
     "output_type": "execute_result"
    }
   ],
   "source": [
    "df_supa['name'] = df_supa['Название']\n",
    "df_rs['name_techplace'] = df_rs['name'] +'_'+ df_rs['Техместо_ПС']\n",
    "df_supa['name_techplace'] = df_supa['name'] +'_'+ df_supa['Верхнее ТМ']\n",
    "\n",
    "feasible_to_match, df_merge1, df_rs, df_supa, _ = merge_by_key_column(df_rs, df_supa, 'name_techplace')\n",
    "feasible_to_match"
   ]
  },
  {
   "cell_type": "code",
   "execution_count": 17,
   "id": "26c726b7-e86f-44bc-96f0-fbf3df8b9d43",
   "metadata": {},
   "outputs": [
    {
     "name": "stdout",
     "output_type": "stream",
     "text": [
      "1739\n"
     ]
    },
    {
     "data": {
      "text/plain": [
       "1693"
      ]
     },
     "execution_count": 17,
     "metadata": {},
     "output_type": "execute_result"
    }
   ],
   "source": [
    "df_rs['name_norm_techplace'] = df_rs['name_norm'] +'_'+ df_rs['Техместо_ПС']\n",
    "df_supa['name_norm_techplace'] = df_supa['name_norm'] +'_'+ df_supa['Верхнее ТМ']\n",
    "\n",
    "# feasible_to_match, df_merge, df_rs, df_supa = merge_by_key_column(df_rs, df_supa, 'name_norm_techplace')\n",
    "# feasible_to_match, _, _, _ = merge_by_key_column(df_rs, df_supa, 'name_norm_techplace')\n",
    "feasible_to_match, df_merge2, df_rs, df_supa, _ = merge_by_key_column(df_rs, df_supa, 'name_norm_techplace')\n",
    "feasible_to_match"
   ]
  },
  {
   "cell_type": "code",
   "execution_count": 18,
   "id": "9288458b-823b-498d-8eb5-a2f4d84074a6",
   "metadata": {},
   "outputs": [
    {
     "name": "stdout",
     "output_type": "stream",
     "text": [
      "123\n"
     ]
    },
    {
     "data": {
      "text/plain": [
       "43"
      ]
     },
     "execution_count": 18,
     "metadata": {},
     "output_type": "execute_result"
    }
   ],
   "source": [
    "df_supa['name'] = df_supa['Диспетчерское наименование']\n",
    "df_supa['name_techplace'] = df_supa['name'] +'_'+ df_supa['Верхнее ТМ']\n",
    "\n",
    "feasible_to_match, df_merge3, df_rs, df_supa, _ = merge_by_key_column(df_rs, df_supa, 'name')\n",
    "feasible_to_match"
   ]
  },
  {
   "cell_type": "code",
   "execution_count": 19,
   "id": "443a2ab7-014b-4fe5-bcf9-51a56ca71fde",
   "metadata": {},
   "outputs": [
    {
     "name": "stdout",
     "output_type": "stream",
     "text": [
      "159\n"
     ]
    },
    {
     "data": {
      "text/plain": [
       "115"
      ]
     },
     "execution_count": 19,
     "metadata": {},
     "output_type": "execute_result"
    }
   ],
   "source": [
    "df_supa['name_norm'] = df_supa['Диспетчерское наименование'].apply(name_norm)\n",
    "df_supa['name_norm_techplace'] = df_supa['name_norm'] +'_'+ df_supa['Верхнее ТМ']\n",
    "\n",
    "feasible_to_match, df_merge4, df_rs, df_supa, df_duples = merge_by_key_column(df_rs, df_supa, 'name_norm_techplace')\n",
    "feasible_to_match"
   ]
  },
  {
   "cell_type": "code",
   "execution_count": 20,
   "id": "7bb423e9-565a-4289-84bb-414206b29c93",
   "metadata": {},
   "outputs": [
    {
     "name": "stdout",
     "output_type": "stream",
     "text": [
      "Сопоставлено 0.7891389432485323 СУПА\n",
      "Сопоставлено 0.5816105769230769 RS\n"
     ]
    }
   ],
   "source": [
    "df_matched = pd.concat([df_merge1, df_merge2, df_merge3, df_merge4])\n",
    "print('Сопоставлено', (df_matched.shape[0])/(df_supa.shape[0] + df_matched.shape[0]), 'СУПА')\n",
    "print('Сопоставлено', (df_matched.shape[0])/(df_rs.shape[0] + df_matched.shape[0]), 'RS')"
   ]
  },
  {
   "cell_type": "code",
   "execution_count": 21,
   "id": "32c157b8-e0e1-4802-a7e4-33f0fa44d961",
   "metadata": {},
   "outputs": [],
   "source": [
    "# df_duples"
   ]
  },
  {
   "cell_type": "code",
   "execution_count": 22,
   "id": "a08036f0-6fdf-46c7-821f-fa6634c815f8",
   "metadata": {},
   "outputs": [],
   "source": [
    "df_rs_techplaces = set(df_rs['Техместо_ПС'].unique())\n",
    "df_supa_techplaces = set(df_supa['Верхнее ТМ'].unique())"
   ]
  },
  {
   "cell_type": "code",
   "execution_count": 23,
   "id": "02bddf5f-9e93-4f94-84a5-ddc6e7517ad0",
   "metadata": {},
   "outputs": [],
   "source": [
    "# for techplace in df_rs_techplaces & df_supa_techplaces:\n",
    "#     print(techplace)\n",
    "#     display(df_rs[df_rs['Техместо_ПС'] == techplace])\n",
    "#     display(df_supa[df_supa['Верхнее ТМ'] == techplace])"
   ]
  }
 ],
 "metadata": {
  "kernelspec": {
   "display_name": "Python 3 (ipykernel)",
   "language": "python",
   "name": "python3"
  },
  "language_info": {
   "codemirror_mode": {
    "name": "ipython",
    "version": 3
   },
   "file_extension": ".py",
   "mimetype": "text/x-python",
   "name": "python",
   "nbconvert_exporter": "python",
   "pygments_lexer": "ipython3",
   "version": "3.11.5"
  }
 },
 "nbformat": 4,
 "nbformat_minor": 5
}
