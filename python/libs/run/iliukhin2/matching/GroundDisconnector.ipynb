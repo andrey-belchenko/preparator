{
 "cells": [
  {
   "cell_type": "code",
   "execution_count": 1,
   "id": "cbf89119-95f8-44ff-a61c-05155ca4cd39",
   "metadata": {},
   "outputs": [],
   "source": [
    "import pandas as pd\n",
    "import re\n",
    "import yaml\n",
    "from data_io import load_data_from_db, insert_collection_into_db\n",
    "from merge import merge_by_key_column\n",
    "from tokenize import tokenize, NAME\n",
    "from io import BytesIO\n",
    "import warnings\n",
    "warnings.filterwarnings(\"ignore\")"
   ]
  },
  {
   "cell_type": "code",
   "execution_count": 2,
   "id": "5918054e-dbcc-424c-a7f4-4a152f37dc4a",
   "metadata": {},
   "outputs": [],
   "source": [
    "from collections import Counter\n",
    "pd.set_option('max_colwidth', 100)\n",
    "pd.set_option('display.max_columns', None)"
   ]
  },
  {
   "cell_type": "code",
   "execution_count": 3,
   "id": "afd992e9-bcd5-48a2-b4bf-2833b5410212",
   "metadata": {},
   "outputs": [],
   "source": [
    "with open('params.yml', 'r') as f:\n",
    "    params = yaml.full_load(f)"
   ]
  },
  {
   "cell_type": "code",
   "execution_count": 4,
   "id": "a5cb004f-28c9-4742-9949-f1e4c2bc5bf8",
   "metadata": {},
   "outputs": [],
   "source": [
    "pd.set_option('max_colwidth', 100)\n",
    "pd.set_option('display.max_columns', None)"
   ]
  },
  {
   "cell_type": "code",
   "execution_count": 5,
   "id": "b5abe399-da13-49ba-a1a7-64335fa63786",
   "metadata": {},
   "outputs": [],
   "source": [
    "# df = load_data_from_db('SomeClasses', params)[0]"
   ]
  },
  {
   "cell_type": "code",
   "execution_count": 6,
   "id": "146525e3-a036-485f-8add-2867250a6af7",
   "metadata": {},
   "outputs": [],
   "source": [
    "# df = df.astype('str')\n",
    "# df[df['Номер класса'].str.contains('ZN')]"
   ]
  },
  {
   "cell_type": "code",
   "execution_count": 7,
   "id": "289e8505-c852-4c15-8cf9-722a0ec8ba4b",
   "metadata": {},
   "outputs": [],
   "source": [
    "# def extract_GroundDisconnector(text):\n",
    "#     text = text.split('_')\n",
    "#     if text[-1] in ['ZN']:\n",
    "#             return True\n",
    "#     return None\n",
    "\n",
    "# df['is_GroundDisconnector'] = df['Номер класса'].apply(extract_GroundDisconnector)\n",
    "# df_GroundDisconnector = df[df['is_GroundDisconnector'] == True]\n",
    "# df_GroundDisconnector"
   ]
  },
  {
   "cell_type": "code",
   "execution_count": 8,
   "id": "386e0955-1df4-46de-8134-23803f75d2bc",
   "metadata": {},
   "outputs": [],
   "source": [
    "# df_GroundDisconnector['voltage_level'] = df_GroundDisconnector['Техместо'].apply(lambda x: x.split('-')[2])\n",
    "# df_GroundDisconnector['voltage_level'].value_counts()"
   ]
  },
  {
   "cell_type": "code",
   "execution_count": 9,
   "id": "104a5100-238b-4d9f-9941-c6762508f6eb",
   "metadata": {},
   "outputs": [],
   "source": [
    "# df_GroundDisconnector = df_GroundDisconnector[df_GroundDisconnector['voltage_level'] == '12']\n",
    "# df_GroundDisconnector.shape"
   ]
  },
  {
   "cell_type": "code",
   "execution_count": 10,
   "id": "047b909f-9544-478d-940c-49d1cb3c2197",
   "metadata": {},
   "outputs": [],
   "source": [
    "# from pymongo import MongoClient\n",
    "\n",
    "# connection = MongoClient(params['mongo_connection'])\n",
    "# db_name = 'GroundDisconnector'\n",
    "# collection_name = 'GroundDisconnector_supa'\n",
    "# db = connection[db_name]\n",
    "# db.drop_collection(collection_name)\n",
    "# col = db[collection_name]\n",
    "# col.insert_many(df_GroundDisconnector.to_dict('records'))\n",
    "# print(f'{collection_name} collection inserted into {db_name}')\n",
    "# connection.close()"
   ]
  },
  {
   "cell_type": "code",
   "execution_count": 11,
   "id": "c60fdbe8-4e09-4eb3-b152-399dbff337ab",
   "metadata": {},
   "outputs": [],
   "source": [
    "with open('params.yml', 'r') as f:\n",
    "    params = yaml.full_load(f)\n",
    "\n",
    "class_name = 'GroundDisconnector'\n",
    "\n",
    "df_rs, df_supa, df_substations_matched = load_data_from_db(class_name, params)"
   ]
  },
  {
   "cell_type": "code",
   "execution_count": 12,
   "id": "8d9922d1-b2e0-46c9-b322-019894d8e6d3",
   "metadata": {},
   "outputs": [
    {
     "data": {
      "text/html": [
       "<div>\n",
       "<style scoped>\n",
       "    .dataframe tbody tr th:only-of-type {\n",
       "        vertical-align: middle;\n",
       "    }\n",
       "\n",
       "    .dataframe tbody tr th {\n",
       "        vertical-align: top;\n",
       "    }\n",
       "\n",
       "    .dataframe thead th {\n",
       "        text-align: right;\n",
       "    }\n",
       "</style>\n",
       "<table border=\"1\" class=\"dataframe\">\n",
       "  <thead>\n",
       "    <tr style=\"text-align: right;\">\n",
       "      <th></th>\n",
       "      <th>_id</th>\n",
       "      <th>Uid</th>\n",
       "      <th>name</th>\n",
       "      <th>Класс</th>\n",
       "      <th>Substation_Uid</th>\n",
       "    </tr>\n",
       "  </thead>\n",
       "  <tbody>\n",
       "    <tr>\n",
       "      <th>0</th>\n",
       "      <td>65af435bf443d62e8528c980</td>\n",
       "      <td>a12ac3ce-e8c2-426c-ae23-b626ec63519d</td>\n",
       "      <td>КЗ-110 Т-1</td>\n",
       "      <td>GroundDisconnector</td>\n",
       "      <td>0193398d-8d84-40d9-8520-2f8ea56bf5e9</td>\n",
       "    </tr>\n",
       "    <tr>\n",
       "      <th>1</th>\n",
       "      <td>65af435bf443d62e8528c981</td>\n",
       "      <td>6b4fdf18-dc9e-40c3-bccf-247644da2c2e</td>\n",
       "      <td>КЗ-110 Т-2</td>\n",
       "      <td>GroundDisconnector</td>\n",
       "      <td>0193398d-8d84-40d9-8520-2f8ea56bf5e9</td>\n",
       "    </tr>\n",
       "    <tr>\n",
       "      <th>2</th>\n",
       "      <td>65af435bf443d62e8528c982</td>\n",
       "      <td>4f8bd896-8744-43da-ac65-eb53298ad684</td>\n",
       "      <td>ЗНТ ШР-110 Т-2</td>\n",
       "      <td>GroundDisconnector</td>\n",
       "      <td>0193398d-8d84-40d9-8520-2f8ea56bf5e9</td>\n",
       "    </tr>\n",
       "    <tr>\n",
       "      <th>3</th>\n",
       "      <td>65af435bf443d62e8528c983</td>\n",
       "      <td>cd8125e1-476a-4489-a73b-63627dd0ab6c</td>\n",
       "      <td>ЗНТ ШР-110 Т-1</td>\n",
       "      <td>GroundDisconnector</td>\n",
       "      <td>0193398d-8d84-40d9-8520-2f8ea56bf5e9</td>\n",
       "    </tr>\n",
       "    <tr>\n",
       "      <th>4</th>\n",
       "      <td>65af435bf443d62e8528c984</td>\n",
       "      <td>afa80c66-9a1e-4c55-95b1-a8b2098c6808</td>\n",
       "      <td>ЗНШ ОД-110 Т-2</td>\n",
       "      <td>GroundDisconnector</td>\n",
       "      <td>7a179a19-1ba9-4daa-957e-bff305874809</td>\n",
       "    </tr>\n",
       "    <tr>\n",
       "      <th>5</th>\n",
       "      <td>65af435bf443d62e8528c985</td>\n",
       "      <td>ab984579-9525-412e-bdb2-5d20d4e62687</td>\n",
       "      <td>ЗОН Т-2</td>\n",
       "      <td>GroundDisconnector</td>\n",
       "      <td>260a3d15-bc96-4f39-b23f-7d18712a9d3a</td>\n",
       "    </tr>\n",
       "    <tr>\n",
       "      <th>6</th>\n",
       "      <td>65af435bf443d62e8528c986</td>\n",
       "      <td>e5d2eae2-cdb7-4f33-aa74-d564d9c3b87f</td>\n",
       "      <td>ЗНШ ЛР-112</td>\n",
       "      <td>GroundDisconnector</td>\n",
       "      <td>7a179a19-1ba9-4daa-957e-bff305874809</td>\n",
       "    </tr>\n",
       "    <tr>\n",
       "      <th>7</th>\n",
       "      <td>65af435bf443d62e8528c987</td>\n",
       "      <td>7be29767-b83c-4492-aa93-fe845a75037a</td>\n",
       "      <td>ЗОН Т-2</td>\n",
       "      <td>GroundDisconnector</td>\n",
       "      <td>046b45be-37ad-44c0-b580-305afe51ddc0</td>\n",
       "    </tr>\n",
       "    <tr>\n",
       "      <th>8</th>\n",
       "      <td>65af435bf443d62e8528c988</td>\n",
       "      <td>7acb8963-4f80-40fe-8929-4bd6b95f6478</td>\n",
       "      <td>ЗНЛ ЛР-112</td>\n",
       "      <td>GroundDisconnector</td>\n",
       "      <td>7a179a19-1ba9-4daa-957e-bff305874809</td>\n",
       "    </tr>\n",
       "    <tr>\n",
       "      <th>9</th>\n",
       "      <td>65af435bf443d62e8528c989</td>\n",
       "      <td>0939ff65-9c95-42b8-853f-412eeac84feb</td>\n",
       "      <td>ЗНЛ ЛР-167</td>\n",
       "      <td>GroundDisconnector</td>\n",
       "      <td>7a179a19-1ba9-4daa-957e-bff305874809</td>\n",
       "    </tr>\n",
       "  </tbody>\n",
       "</table>\n",
       "</div>"
      ],
      "text/plain": [
       "                        _id                                   Uid  \\\n",
       "0  65af435bf443d62e8528c980  a12ac3ce-e8c2-426c-ae23-b626ec63519d   \n",
       "1  65af435bf443d62e8528c981  6b4fdf18-dc9e-40c3-bccf-247644da2c2e   \n",
       "2  65af435bf443d62e8528c982  4f8bd896-8744-43da-ac65-eb53298ad684   \n",
       "3  65af435bf443d62e8528c983  cd8125e1-476a-4489-a73b-63627dd0ab6c   \n",
       "4  65af435bf443d62e8528c984  afa80c66-9a1e-4c55-95b1-a8b2098c6808   \n",
       "5  65af435bf443d62e8528c985  ab984579-9525-412e-bdb2-5d20d4e62687   \n",
       "6  65af435bf443d62e8528c986  e5d2eae2-cdb7-4f33-aa74-d564d9c3b87f   \n",
       "7  65af435bf443d62e8528c987  7be29767-b83c-4492-aa93-fe845a75037a   \n",
       "8  65af435bf443d62e8528c988  7acb8963-4f80-40fe-8929-4bd6b95f6478   \n",
       "9  65af435bf443d62e8528c989  0939ff65-9c95-42b8-853f-412eeac84feb   \n",
       "\n",
       "             name               Класс                        Substation_Uid  \n",
       "0      КЗ-110 Т-1  GroundDisconnector  0193398d-8d84-40d9-8520-2f8ea56bf5e9  \n",
       "1      КЗ-110 Т-2  GroundDisconnector  0193398d-8d84-40d9-8520-2f8ea56bf5e9  \n",
       "2  ЗНТ ШР-110 Т-2  GroundDisconnector  0193398d-8d84-40d9-8520-2f8ea56bf5e9  \n",
       "3  ЗНТ ШР-110 Т-1  GroundDisconnector  0193398d-8d84-40d9-8520-2f8ea56bf5e9  \n",
       "4  ЗНШ ОД-110 Т-2  GroundDisconnector  7a179a19-1ba9-4daa-957e-bff305874809  \n",
       "5         ЗОН Т-2  GroundDisconnector  260a3d15-bc96-4f39-b23f-7d18712a9d3a  \n",
       "6      ЗНШ ЛР-112  GroundDisconnector  7a179a19-1ba9-4daa-957e-bff305874809  \n",
       "7         ЗОН Т-2  GroundDisconnector  046b45be-37ad-44c0-b580-305afe51ddc0  \n",
       "8      ЗНЛ ЛР-112  GroundDisconnector  7a179a19-1ba9-4daa-957e-bff305874809  \n",
       "9      ЗНЛ ЛР-167  GroundDisconnector  7a179a19-1ba9-4daa-957e-bff305874809  "
      ]
     },
     "metadata": {},
     "output_type": "display_data"
    },
    {
     "name": "stdout",
     "output_type": "stream",
     "text": [
      "<class 'pandas.core.frame.DataFrame'>\n",
      "RangeIndex: 12987 entries, 0 to 12986\n",
      "Data columns (total 5 columns):\n",
      " #   Column          Non-Null Count  Dtype \n",
      "---  ------          --------------  ----- \n",
      " 0   _id             12987 non-null  object\n",
      " 1   Uid             12987 non-null  object\n",
      " 2   name            12987 non-null  object\n",
      " 3   Класс           12986 non-null  object\n",
      " 4   Substation_Uid  12958 non-null  object\n",
      "dtypes: object(5)\n",
      "memory usage: 507.4+ KB\n"
     ]
    },
    {
     "data": {
      "text/plain": [
       "None"
      ]
     },
     "metadata": {},
     "output_type": "display_data"
    },
    {
     "name": "stdout",
     "output_type": "stream",
     "text": [
      "----------\n"
     ]
    },
    {
     "data": {
      "text/html": [
       "<div>\n",
       "<style scoped>\n",
       "    .dataframe tbody tr th:only-of-type {\n",
       "        vertical-align: middle;\n",
       "    }\n",
       "\n",
       "    .dataframe tbody tr th {\n",
       "        vertical-align: top;\n",
       "    }\n",
       "\n",
       "    .dataframe thead th {\n",
       "        text-align: right;\n",
       "    }\n",
       "</style>\n",
       "<table border=\"1\" class=\"dataframe\">\n",
       "  <thead>\n",
       "    <tr style=\"text-align: right;\">\n",
       "      <th></th>\n",
       "      <th>_id</th>\n",
       "      <th>Техместо</th>\n",
       "      <th>ДиспНаименование</th>\n",
       "      <th>Название</th>\n",
       "      <th>Местоположение</th>\n",
       "      <th>Класс</th>\n",
       "      <th>ВерхнееТМ</th>\n",
       "      <th>Район</th>\n",
       "      <th>НазваниеКласса</th>\n",
       "      <th>is_required_class</th>\n",
       "    </tr>\n",
       "  </thead>\n",
       "  <tbody>\n",
       "    <tr>\n",
       "      <th>0</th>\n",
       "      <td>65af4347f443d62e85274c2d</td>\n",
       "      <td>PS110-000002-01-01</td>\n",
       "      <td>ЗН-ТР-110-Т-1 в ст. Т-1</td>\n",
       "      <td>Заземляющий нож</td>\n",
       "      <td>7540020200</td>\n",
       "      <td>PS_01_01</td>\n",
       "      <td>PS110-000002</td>\n",
       "      <td>None</td>\n",
       "      <td>ЗОН</td>\n",
       "      <td>True</td>\n",
       "    </tr>\n",
       "    <tr>\n",
       "      <th>1</th>\n",
       "      <td>65af4347f443d62e85274c30</td>\n",
       "      <td>PS110-000002-02-01</td>\n",
       "      <td>ЗН-ТР-110-Т-2 в ст. Т-2</td>\n",
       "      <td>Заземляющий нож</td>\n",
       "      <td>7540020200</td>\n",
       "      <td>PS_01_01</td>\n",
       "      <td>PS110-000002</td>\n",
       "      <td>None</td>\n",
       "      <td>ЗОН</td>\n",
       "      <td>True</td>\n",
       "    </tr>\n",
       "    <tr>\n",
       "      <th>2</th>\n",
       "      <td>65af4347f443d62e85274c34</td>\n",
       "      <td>PS110-000002-12-01-001-60-01</td>\n",
       "      <td>ЗН-КС-110-50 фаза В</td>\n",
       "      <td>Заземляющий нож 1</td>\n",
       "      <td>7540020200</td>\n",
       "      <td>PS_12_01_001_ZN</td>\n",
       "      <td>PS110-000002</td>\n",
       "      <td>None</td>\n",
       "      <td>Заземляющий нож</td>\n",
       "      <td>True</td>\n",
       "    </tr>\n",
       "    <tr>\n",
       "      <th>3</th>\n",
       "      <td>65af4347f443d62e85274c36</td>\n",
       "      <td>PS110-000002-12-01-002-60-01</td>\n",
       "      <td>ЗН-КС-110-84 фаза В</td>\n",
       "      <td>Заземляющий нож 1</td>\n",
       "      <td>7540020200</td>\n",
       "      <td>PS_12_01_001_ZN</td>\n",
       "      <td>PS110-000002</td>\n",
       "      <td>None</td>\n",
       "      <td>Заземляющий нож</td>\n",
       "      <td>True</td>\n",
       "    </tr>\n",
       "    <tr>\n",
       "      <th>4</th>\n",
       "      <td>65af4347f443d62e85274c3b</td>\n",
       "      <td>PS110-000002-12-01-201-43</td>\n",
       "      <td>КЗ-110-Т-1</td>\n",
       "      <td>КЗ-110-Т-1</td>\n",
       "      <td>7540020200</td>\n",
       "      <td>PS_12_01_201_KORZ</td>\n",
       "      <td>PS110-000002</td>\n",
       "      <td>None</td>\n",
       "      <td>Короткозамыкатель</td>\n",
       "      <td>True</td>\n",
       "    </tr>\n",
       "    <tr>\n",
       "      <th>5</th>\n",
       "      <td>65af4347f443d62e85274c3f</td>\n",
       "      <td>PS110-000002-12-01-202-43</td>\n",
       "      <td>КЗ-110-Т-2</td>\n",
       "      <td>КЗ-110-Т-2</td>\n",
       "      <td>7540020200</td>\n",
       "      <td>PS_12_01_201_KORZ</td>\n",
       "      <td>PS110-000002</td>\n",
       "      <td>None</td>\n",
       "      <td>Короткозамыкатель</td>\n",
       "      <td>True</td>\n",
       "    </tr>\n",
       "    <tr>\n",
       "      <th>6</th>\n",
       "      <td>65af4347f443d62e85274c44</td>\n",
       "      <td>PS110-000004-01-01</td>\n",
       "      <td>ЗОН-110 Т-1</td>\n",
       "      <td>ЗОН-110 Т-1</td>\n",
       "      <td>2230000000</td>\n",
       "      <td>PS_01_01</td>\n",
       "      <td>PS110-000004</td>\n",
       "      <td>None</td>\n",
       "      <td>ЗОН</td>\n",
       "      <td>True</td>\n",
       "    </tr>\n",
       "    <tr>\n",
       "      <th>7</th>\n",
       "      <td>65af4347f443d62e85274c47</td>\n",
       "      <td>PS110-000004-02-01</td>\n",
       "      <td>ЗОН-110 Т-2</td>\n",
       "      <td>ЗОН-110 Т-2</td>\n",
       "      <td>2230000000</td>\n",
       "      <td>PS_01_01</td>\n",
       "      <td>PS110-000004</td>\n",
       "      <td>None</td>\n",
       "      <td>ЗОН</td>\n",
       "      <td>True</td>\n",
       "    </tr>\n",
       "    <tr>\n",
       "      <th>8</th>\n",
       "      <td>65af4347f443d62e85274c4c</td>\n",
       "      <td>PS110-000004-12-01-001-21-01</td>\n",
       "      <td>ЗНЛ ЛР ЮГ-153</td>\n",
       "      <td>ЗНЛ ЛР ЮГ-153</td>\n",
       "      <td>2230000000</td>\n",
       "      <td>PS_12_01_001_ZN</td>\n",
       "      <td>PS110-000004</td>\n",
       "      <td>None</td>\n",
       "      <td>Заземляющий нож</td>\n",
       "      <td>True</td>\n",
       "    </tr>\n",
       "    <tr>\n",
       "      <th>9</th>\n",
       "      <td>65af4347f443d62e85274c4d</td>\n",
       "      <td>PS110-000004-12-01-001-21-02</td>\n",
       "      <td>ЗНТ ЛР ЮГ-153</td>\n",
       "      <td>ЗНТ ЛР ЮГ-153</td>\n",
       "      <td>2230000000</td>\n",
       "      <td>PS_12_01_001_ZN</td>\n",
       "      <td>PS110-000004</td>\n",
       "      <td>None</td>\n",
       "      <td>Заземляющий нож</td>\n",
       "      <td>True</td>\n",
       "    </tr>\n",
       "  </tbody>\n",
       "</table>\n",
       "</div>"
      ],
      "text/plain": [
       "                        _id                      Техместо  \\\n",
       "0  65af4347f443d62e85274c2d            PS110-000002-01-01   \n",
       "1  65af4347f443d62e85274c30            PS110-000002-02-01   \n",
       "2  65af4347f443d62e85274c34  PS110-000002-12-01-001-60-01   \n",
       "3  65af4347f443d62e85274c36  PS110-000002-12-01-002-60-01   \n",
       "4  65af4347f443d62e85274c3b     PS110-000002-12-01-201-43   \n",
       "5  65af4347f443d62e85274c3f     PS110-000002-12-01-202-43   \n",
       "6  65af4347f443d62e85274c44            PS110-000004-01-01   \n",
       "7  65af4347f443d62e85274c47            PS110-000004-02-01   \n",
       "8  65af4347f443d62e85274c4c  PS110-000004-12-01-001-21-01   \n",
       "9  65af4347f443d62e85274c4d  PS110-000004-12-01-001-21-02   \n",
       "\n",
       "          ДиспНаименование           Название  Местоположение  \\\n",
       "0  ЗН-ТР-110-Т-1 в ст. Т-1    Заземляющий нож      7540020200   \n",
       "1  ЗН-ТР-110-Т-2 в ст. Т-2    Заземляющий нож      7540020200   \n",
       "2      ЗН-КС-110-50 фаза В  Заземляющий нож 1      7540020200   \n",
       "3      ЗН-КС-110-84 фаза В  Заземляющий нож 1      7540020200   \n",
       "4               КЗ-110-Т-1         КЗ-110-Т-1      7540020200   \n",
       "5               КЗ-110-Т-2         КЗ-110-Т-2      7540020200   \n",
       "6              ЗОН-110 Т-1        ЗОН-110 Т-1      2230000000   \n",
       "7              ЗОН-110 Т-2        ЗОН-110 Т-2      2230000000   \n",
       "8            ЗНЛ ЛР ЮГ-153      ЗНЛ ЛР ЮГ-153      2230000000   \n",
       "9            ЗНТ ЛР ЮГ-153      ЗНТ ЛР ЮГ-153      2230000000   \n",
       "\n",
       "               Класс     ВерхнееТМ Район     НазваниеКласса  is_required_class  \n",
       "0           PS_01_01  PS110-000002  None                ЗОН               True  \n",
       "1           PS_01_01  PS110-000002  None                ЗОН               True  \n",
       "2    PS_12_01_001_ZN  PS110-000002  None    Заземляющий нож               True  \n",
       "3    PS_12_01_001_ZN  PS110-000002  None    Заземляющий нож               True  \n",
       "4  PS_12_01_201_KORZ  PS110-000002  None  Короткозамыкатель               True  \n",
       "5  PS_12_01_201_KORZ  PS110-000002  None  Короткозамыкатель               True  \n",
       "6           PS_01_01  PS110-000004  None                ЗОН               True  \n",
       "7           PS_01_01  PS110-000004  None                ЗОН               True  \n",
       "8    PS_12_01_001_ZN  PS110-000004  None    Заземляющий нож               True  \n",
       "9    PS_12_01_001_ZN  PS110-000004  None    Заземляющий нож               True  "
      ]
     },
     "metadata": {},
     "output_type": "display_data"
    },
    {
     "name": "stdout",
     "output_type": "stream",
     "text": [
      "<class 'pandas.core.frame.DataFrame'>\n",
      "RangeIndex: 8923 entries, 0 to 8922\n",
      "Data columns (total 10 columns):\n",
      " #   Column             Non-Null Count  Dtype \n",
      "---  ------             --------------  ----- \n",
      " 0   _id                8923 non-null   object\n",
      " 1   Техместо           8923 non-null   object\n",
      " 2   ДиспНаименование   7617 non-null   object\n",
      " 3   Название           8919 non-null   object\n",
      " 4   Местоположение     8923 non-null   int64 \n",
      " 5   Класс              8923 non-null   object\n",
      " 6   ВерхнееТМ          8923 non-null   object\n",
      " 7   Район              0 non-null      object\n",
      " 8   НазваниеКласса     8923 non-null   object\n",
      " 9   is_required_class  8923 non-null   bool  \n",
      "dtypes: bool(1), int64(1), object(8)\n",
      "memory usage: 636.2+ KB\n"
     ]
    },
    {
     "data": {
      "text/plain": [
       "None"
      ]
     },
     "metadata": {},
     "output_type": "display_data"
    },
    {
     "name": "stdout",
     "output_type": "stream",
     "text": [
      "----------\n"
     ]
    },
    {
     "data": {
      "text/html": [
       "<div>\n",
       "<style scoped>\n",
       "    .dataframe tbody tr th:only-of-type {\n",
       "        vertical-align: middle;\n",
       "    }\n",
       "\n",
       "    .dataframe tbody tr th {\n",
       "        vertical-align: top;\n",
       "    }\n",
       "\n",
       "    .dataframe thead th {\n",
       "        text-align: right;\n",
       "    }\n",
       "</style>\n",
       "<table border=\"1\" class=\"dataframe\">\n",
       "  <thead>\n",
       "    <tr style=\"text-align: right;\">\n",
       "      <th></th>\n",
       "      <th>_id</th>\n",
       "      <th>Uid</th>\n",
       "      <th>Техместо</th>\n",
       "      <th>Наименование</th>\n",
       "      <th>Диспетчерское наименование</th>\n",
       "      <th>Класс</th>\n",
       "    </tr>\n",
       "  </thead>\n",
       "  <tbody>\n",
       "    <tr>\n",
       "      <th>0</th>\n",
       "      <td>65a9950923f335544b44a09e</td>\n",
       "      <td>000fe64c-7b85-4bea-9ada-3e514d968485</td>\n",
       "      <td>PS110-000516</td>\n",
       "      <td>ПС 110 кВ Уропская</td>\n",
       "      <td>ПС 110 кВ Уропская</td>\n",
       "      <td>Substation</td>\n",
       "    </tr>\n",
       "    <tr>\n",
       "      <th>1</th>\n",
       "      <td>65a9950923f335544b44a09f</td>\n",
       "      <td>011f18d7-614e-4945-8bf8-81964a8c6a9f</td>\n",
       "      <td>PS110-001024</td>\n",
       "      <td>ПС 110 кВ Потаскуй</td>\n",
       "      <td>ПС 110 кВ Потаскуй</td>\n",
       "      <td>Substation</td>\n",
       "    </tr>\n",
       "    <tr>\n",
       "      <th>2</th>\n",
       "      <td>65a9950923f335544b44a0a0</td>\n",
       "      <td>01628ca3-8af1-4d26-84c3-52ee6c0f1adc</td>\n",
       "      <td>PS110-000253</td>\n",
       "      <td>ПС 110 кВ Пригородная</td>\n",
       "      <td>ПС 110 кВ Пригородная</td>\n",
       "      <td>Substation</td>\n",
       "    </tr>\n",
       "    <tr>\n",
       "      <th>3</th>\n",
       "      <td>65a9950923f335544b44a0a1</td>\n",
       "      <td>018c4cfb-1f78-41e9-8e40-001a41114299</td>\n",
       "      <td>PS110-000519</td>\n",
       "      <td>ПС 110 кВ Городская</td>\n",
       "      <td>ПС 110 кВ Городская</td>\n",
       "      <td>Substation</td>\n",
       "    </tr>\n",
       "    <tr>\n",
       "      <th>4</th>\n",
       "      <td>65a9950923f335544b44a0a2</td>\n",
       "      <td>0193398d-8d84-40d9-8520-2f8ea56bf5e9</td>\n",
       "      <td>PS110-000294</td>\n",
       "      <td>ПС 110 кВ Коробейниково</td>\n",
       "      <td>ПС 110 кВ Коробейниково</td>\n",
       "      <td>Substation</td>\n",
       "    </tr>\n",
       "    <tr>\n",
       "      <th>5</th>\n",
       "      <td>65a9950923f335544b44a0a3</td>\n",
       "      <td>01d27eab-6a9e-41ba-9614-a782a63b430b</td>\n",
       "      <td>PS110-000268</td>\n",
       "      <td>ПС 110 кВ Опорная</td>\n",
       "      <td>ПС 110 кВ Опорная</td>\n",
       "      <td>Substation</td>\n",
       "    </tr>\n",
       "    <tr>\n",
       "      <th>6</th>\n",
       "      <td>65a9950923f335544b44a0a4</td>\n",
       "      <td>02697fc5-c1c1-4b96-a808-a905916b8feb</td>\n",
       "      <td>PS110-000008</td>\n",
       "      <td>ПС 110 кВ Гусиноозерская</td>\n",
       "      <td>ПС 110 кВ Гусиноозерская</td>\n",
       "      <td>Substation</td>\n",
       "    </tr>\n",
       "    <tr>\n",
       "      <th>7</th>\n",
       "      <td>65a9950923f335544b44a0a5</td>\n",
       "      <td>02b970fd-165b-4da9-9807-c8f21ee9b221</td>\n",
       "      <td>PS110-000387</td>\n",
       "      <td>ПС 110 кВ Затонская</td>\n",
       "      <td>ПС 110 кВ Затонская</td>\n",
       "      <td>Substation</td>\n",
       "    </tr>\n",
       "    <tr>\n",
       "      <th>8</th>\n",
       "      <td>65a9950923f335544b44a0a6</td>\n",
       "      <td>0355728d-e712-4133-97e2-0c3cbe4ef79c</td>\n",
       "      <td>PS110-001242</td>\n",
       "      <td>ПС 110 кВ Полярная</td>\n",
       "      <td>None</td>\n",
       "      <td>Substation</td>\n",
       "    </tr>\n",
       "    <tr>\n",
       "      <th>9</th>\n",
       "      <td>65a9950923f335544b44a0a7</td>\n",
       "      <td>037bf15d-c151-4d3d-938a-076a5e1d25f2</td>\n",
       "      <td>PS110-000807</td>\n",
       "      <td>ПС 110 кВ Орловский ГОК</td>\n",
       "      <td>ПС 110 кВ Орловский ГОК</td>\n",
       "      <td>Substation</td>\n",
       "    </tr>\n",
       "  </tbody>\n",
       "</table>\n",
       "</div>"
      ],
      "text/plain": [
       "                        _id                                   Uid  \\\n",
       "0  65a9950923f335544b44a09e  000fe64c-7b85-4bea-9ada-3e514d968485   \n",
       "1  65a9950923f335544b44a09f  011f18d7-614e-4945-8bf8-81964a8c6a9f   \n",
       "2  65a9950923f335544b44a0a0  01628ca3-8af1-4d26-84c3-52ee6c0f1adc   \n",
       "3  65a9950923f335544b44a0a1  018c4cfb-1f78-41e9-8e40-001a41114299   \n",
       "4  65a9950923f335544b44a0a2  0193398d-8d84-40d9-8520-2f8ea56bf5e9   \n",
       "5  65a9950923f335544b44a0a3  01d27eab-6a9e-41ba-9614-a782a63b430b   \n",
       "6  65a9950923f335544b44a0a4  02697fc5-c1c1-4b96-a808-a905916b8feb   \n",
       "7  65a9950923f335544b44a0a5  02b970fd-165b-4da9-9807-c8f21ee9b221   \n",
       "8  65a9950923f335544b44a0a6  0355728d-e712-4133-97e2-0c3cbe4ef79c   \n",
       "9  65a9950923f335544b44a0a7  037bf15d-c151-4d3d-938a-076a5e1d25f2   \n",
       "\n",
       "       Техместо              Наименование Диспетчерское наименование  \\\n",
       "0  PS110-000516        ПС 110 кВ Уропская         ПС 110 кВ Уропская   \n",
       "1  PS110-001024        ПС 110 кВ Потаскуй         ПС 110 кВ Потаскуй   \n",
       "2  PS110-000253     ПС 110 кВ Пригородная      ПС 110 кВ Пригородная   \n",
       "3  PS110-000519       ПС 110 кВ Городская        ПС 110 кВ Городская   \n",
       "4  PS110-000294   ПС 110 кВ Коробейниково    ПС 110 кВ Коробейниково   \n",
       "5  PS110-000268         ПС 110 кВ Опорная          ПС 110 кВ Опорная   \n",
       "6  PS110-000008  ПС 110 кВ Гусиноозерская   ПС 110 кВ Гусиноозерская   \n",
       "7  PS110-000387       ПС 110 кВ Затонская        ПС 110 кВ Затонская   \n",
       "8  PS110-001242        ПС 110 кВ Полярная                       None   \n",
       "9  PS110-000807   ПС 110 кВ Орловский ГОК    ПС 110 кВ Орловский ГОК   \n",
       "\n",
       "        Класс  \n",
       "0  Substation  \n",
       "1  Substation  \n",
       "2  Substation  \n",
       "3  Substation  \n",
       "4  Substation  \n",
       "5  Substation  \n",
       "6  Substation  \n",
       "7  Substation  \n",
       "8  Substation  \n",
       "9  Substation  "
      ]
     },
     "metadata": {},
     "output_type": "display_data"
    },
    {
     "name": "stdout",
     "output_type": "stream",
     "text": [
      "<class 'pandas.core.frame.DataFrame'>\n",
      "RangeIndex: 822 entries, 0 to 821\n",
      "Data columns (total 6 columns):\n",
      " #   Column                      Non-Null Count  Dtype \n",
      "---  ------                      --------------  ----- \n",
      " 0   _id                         822 non-null    object\n",
      " 1   Uid                         822 non-null    object\n",
      " 2   Техместо                    822 non-null    object\n",
      " 3   Наименование                822 non-null    object\n",
      " 4   Диспетчерское наименование  818 non-null    object\n",
      " 5   Класс                       822 non-null    object\n",
      "dtypes: object(6)\n",
      "memory usage: 38.7+ KB\n"
     ]
    },
    {
     "data": {
      "text/plain": [
       "None"
      ]
     },
     "metadata": {},
     "output_type": "display_data"
    },
    {
     "name": "stdout",
     "output_type": "stream",
     "text": [
      "----------\n"
     ]
    }
   ],
   "source": [
    "for df in [df_rs, df_supa, df_substations_matched]:\n",
    "    display(df.head(10))\n",
    "    display(df.info())\n",
    "    print('-'*10)"
   ]
  },
  {
   "cell_type": "markdown",
   "id": "f7bf69f1-dfdb-4c5b-9a30-b82ca49e3a18",
   "metadata": {},
   "source": [
    "# Берем Техместо из ПС (ранее сопоставленных). Кладем в RS20"
   ]
  },
  {
   "cell_type": "code",
   "execution_count": 13,
   "id": "01386a2e-2a03-4f91-92ea-79c8223e107d",
   "metadata": {},
   "outputs": [
    {
     "name": "stdout",
     "output_type": "stream",
     "text": [
      "Между сопоставленными ПС и СУПА общих по Техместу ПС: 788\n",
      "Между сопоставленными ПС и RS20 общих по Uid ПС: 802\n"
     ]
    }
   ],
   "source": [
    "techplace_substations_matched = set(df_substations_matched['Техместо'].tolist())\n",
    "techplace_substations_supa = set(df_supa['ВерхнееТМ'].tolist())\n",
    "print('Между сопоставленными ПС и СУПА общих по Техместу ПС:', len(techplace_substations_matched & techplace_substations_supa))\n",
    "\n",
    "uid_substations_matched = set(df_substations_matched['Uid'].tolist())\n",
    "uid_substations_rs = set(df_rs['Substation_Uid'].tolist())\n",
    "print('Между сопоставленными ПС и RS20 общих по Uid ПС:', len(uid_substations_matched & uid_substations_rs))"
   ]
  },
  {
   "cell_type": "code",
   "execution_count": 14,
   "id": "38c5f523-4b09-42e1-ad68-30fd83a9d706",
   "metadata": {},
   "outputs": [
    {
     "name": "stdout",
     "output_type": "stream",
     "text": [
      "None: 156\n"
     ]
    },
    {
     "data": {
      "text/html": [
       "<div>\n",
       "<style scoped>\n",
       "    .dataframe tbody tr th:only-of-type {\n",
       "        vertical-align: middle;\n",
       "    }\n",
       "\n",
       "    .dataframe tbody tr th {\n",
       "        vertical-align: top;\n",
       "    }\n",
       "\n",
       "    .dataframe thead th {\n",
       "        text-align: right;\n",
       "    }\n",
       "</style>\n",
       "<table border=\"1\" class=\"dataframe\">\n",
       "  <thead>\n",
       "    <tr style=\"text-align: right;\">\n",
       "      <th></th>\n",
       "      <th>_id</th>\n",
       "      <th>Uid</th>\n",
       "      <th>name</th>\n",
       "      <th>Класс</th>\n",
       "      <th>Substation_Uid</th>\n",
       "      <th>Техместо_ПС</th>\n",
       "    </tr>\n",
       "  </thead>\n",
       "  <tbody>\n",
       "    <tr>\n",
       "      <th>0</th>\n",
       "      <td>65af435bf443d62e8528c980</td>\n",
       "      <td>a12ac3ce-e8c2-426c-ae23-b626ec63519d</td>\n",
       "      <td>КЗ-110 Т-1</td>\n",
       "      <td>GroundDisconnector</td>\n",
       "      <td>0193398d-8d84-40d9-8520-2f8ea56bf5e9</td>\n",
       "      <td>PS110-000294</td>\n",
       "    </tr>\n",
       "    <tr>\n",
       "      <th>1</th>\n",
       "      <td>65af435bf443d62e8528c981</td>\n",
       "      <td>6b4fdf18-dc9e-40c3-bccf-247644da2c2e</td>\n",
       "      <td>КЗ-110 Т-2</td>\n",
       "      <td>GroundDisconnector</td>\n",
       "      <td>0193398d-8d84-40d9-8520-2f8ea56bf5e9</td>\n",
       "      <td>PS110-000294</td>\n",
       "    </tr>\n",
       "    <tr>\n",
       "      <th>2</th>\n",
       "      <td>65af435bf443d62e8528c982</td>\n",
       "      <td>4f8bd896-8744-43da-ac65-eb53298ad684</td>\n",
       "      <td>ЗНТ ШР-110 Т-2</td>\n",
       "      <td>GroundDisconnector</td>\n",
       "      <td>0193398d-8d84-40d9-8520-2f8ea56bf5e9</td>\n",
       "      <td>PS110-000294</td>\n",
       "    </tr>\n",
       "    <tr>\n",
       "      <th>3</th>\n",
       "      <td>65af435bf443d62e8528c983</td>\n",
       "      <td>cd8125e1-476a-4489-a73b-63627dd0ab6c</td>\n",
       "      <td>ЗНТ ШР-110 Т-1</td>\n",
       "      <td>GroundDisconnector</td>\n",
       "      <td>0193398d-8d84-40d9-8520-2f8ea56bf5e9</td>\n",
       "      <td>PS110-000294</td>\n",
       "    </tr>\n",
       "    <tr>\n",
       "      <th>4</th>\n",
       "      <td>65af435bf443d62e8528c984</td>\n",
       "      <td>afa80c66-9a1e-4c55-95b1-a8b2098c6808</td>\n",
       "      <td>ЗНШ ОД-110 Т-2</td>\n",
       "      <td>GroundDisconnector</td>\n",
       "      <td>7a179a19-1ba9-4daa-957e-bff305874809</td>\n",
       "      <td>PS110-000929</td>\n",
       "    </tr>\n",
       "    <tr>\n",
       "      <th>...</th>\n",
       "      <td>...</td>\n",
       "      <td>...</td>\n",
       "      <td>...</td>\n",
       "      <td>...</td>\n",
       "      <td>...</td>\n",
       "      <td>...</td>\n",
       "    </tr>\n",
       "    <tr>\n",
       "      <th>12982</th>\n",
       "      <td>65af435cf443d62e8528fc36</td>\n",
       "      <td>e8c115c3-fe79-43a8-bbff-e602e2bc35a2</td>\n",
       "      <td>ЗН-ЛР-110-71 в ст. В</td>\n",
       "      <td>GroundDisconnector</td>\n",
       "      <td>da96eb1d-eb58-49da-b44c-e5c3f2a13827</td>\n",
       "      <td>PS110-000773</td>\n",
       "    </tr>\n",
       "    <tr>\n",
       "      <th>12983</th>\n",
       "      <td>65af435cf443d62e8528fc37</td>\n",
       "      <td>ebc979de-a745-4f86-9f7e-3143a2da9ad6</td>\n",
       "      <td>ЗН-ШР-110-71 в ст. В</td>\n",
       "      <td>GroundDisconnector</td>\n",
       "      <td>da96eb1d-eb58-49da-b44c-e5c3f2a13827</td>\n",
       "      <td>PS110-000773</td>\n",
       "    </tr>\n",
       "    <tr>\n",
       "      <th>12984</th>\n",
       "      <td>65af435cf443d62e8528fc38</td>\n",
       "      <td>7be3b52b-22f1-4e67-a774-0f2ce397fe5d</td>\n",
       "      <td>ЗН-ОР-110-05 в ст. ВЛ</td>\n",
       "      <td>GroundDisconnector</td>\n",
       "      <td>3d779fc3-4c42-48ac-8be5-3e6e86840bdb</td>\n",
       "      <td>PS110-000786</td>\n",
       "    </tr>\n",
       "    <tr>\n",
       "      <th>12985</th>\n",
       "      <td>65af435cf443d62e8528fc39</td>\n",
       "      <td>661d2aed-4cb2-4c18-b79f-d380f91586e7</td>\n",
       "      <td>ЗН-РП-110-2 в ст. РП</td>\n",
       "      <td>GroundDisconnector</td>\n",
       "      <td>da96eb1d-eb58-49da-b44c-e5c3f2a13827</td>\n",
       "      <td>PS110-000773</td>\n",
       "    </tr>\n",
       "    <tr>\n",
       "      <th>12986</th>\n",
       "      <td>65af435cf443d62e8528fc3a</td>\n",
       "      <td>386ffc99-009e-46ea-8c37-90b03f6a1341</td>\n",
       "      <td>ЗН-РП-110-1 в ст.РП</td>\n",
       "      <td>GroundDisconnector</td>\n",
       "      <td>da96eb1d-eb58-49da-b44c-e5c3f2a13827</td>\n",
       "      <td>PS110-000773</td>\n",
       "    </tr>\n",
       "  </tbody>\n",
       "</table>\n",
       "<p>12987 rows × 6 columns</p>\n",
       "</div>"
      ],
      "text/plain": [
       "                            _id                                   Uid  \\\n",
       "0      65af435bf443d62e8528c980  a12ac3ce-e8c2-426c-ae23-b626ec63519d   \n",
       "1      65af435bf443d62e8528c981  6b4fdf18-dc9e-40c3-bccf-247644da2c2e   \n",
       "2      65af435bf443d62e8528c982  4f8bd896-8744-43da-ac65-eb53298ad684   \n",
       "3      65af435bf443d62e8528c983  cd8125e1-476a-4489-a73b-63627dd0ab6c   \n",
       "4      65af435bf443d62e8528c984  afa80c66-9a1e-4c55-95b1-a8b2098c6808   \n",
       "...                         ...                                   ...   \n",
       "12982  65af435cf443d62e8528fc36  e8c115c3-fe79-43a8-bbff-e602e2bc35a2   \n",
       "12983  65af435cf443d62e8528fc37  ebc979de-a745-4f86-9f7e-3143a2da9ad6   \n",
       "12984  65af435cf443d62e8528fc38  7be3b52b-22f1-4e67-a774-0f2ce397fe5d   \n",
       "12985  65af435cf443d62e8528fc39  661d2aed-4cb2-4c18-b79f-d380f91586e7   \n",
       "12986  65af435cf443d62e8528fc3a  386ffc99-009e-46ea-8c37-90b03f6a1341   \n",
       "\n",
       "                        name               Класс  \\\n",
       "0                 КЗ-110 Т-1  GroundDisconnector   \n",
       "1                 КЗ-110 Т-2  GroundDisconnector   \n",
       "2             ЗНТ ШР-110 Т-2  GroundDisconnector   \n",
       "3             ЗНТ ШР-110 Т-1  GroundDisconnector   \n",
       "4             ЗНШ ОД-110 Т-2  GroundDisconnector   \n",
       "...                      ...                 ...   \n",
       "12982   ЗН-ЛР-110-71 в ст. В  GroundDisconnector   \n",
       "12983   ЗН-ШР-110-71 в ст. В  GroundDisconnector   \n",
       "12984  ЗН-ОР-110-05 в ст. ВЛ  GroundDisconnector   \n",
       "12985   ЗН-РП-110-2 в ст. РП  GroundDisconnector   \n",
       "12986    ЗН-РП-110-1 в ст.РП  GroundDisconnector   \n",
       "\n",
       "                             Substation_Uid   Техместо_ПС  \n",
       "0      0193398d-8d84-40d9-8520-2f8ea56bf5e9  PS110-000294  \n",
       "1      0193398d-8d84-40d9-8520-2f8ea56bf5e9  PS110-000294  \n",
       "2      0193398d-8d84-40d9-8520-2f8ea56bf5e9  PS110-000294  \n",
       "3      0193398d-8d84-40d9-8520-2f8ea56bf5e9  PS110-000294  \n",
       "4      7a179a19-1ba9-4daa-957e-bff305874809  PS110-000929  \n",
       "...                                     ...           ...  \n",
       "12982  da96eb1d-eb58-49da-b44c-e5c3f2a13827  PS110-000773  \n",
       "12983  da96eb1d-eb58-49da-b44c-e5c3f2a13827  PS110-000773  \n",
       "12984  3d779fc3-4c42-48ac-8be5-3e6e86840bdb  PS110-000786  \n",
       "12985  da96eb1d-eb58-49da-b44c-e5c3f2a13827  PS110-000773  \n",
       "12986  da96eb1d-eb58-49da-b44c-e5c3f2a13827  PS110-000773  \n",
       "\n",
       "[12987 rows x 6 columns]"
      ]
     },
     "execution_count": 14,
     "metadata": {},
     "output_type": "execute_result"
    }
   ],
   "source": [
    "uid2techplace = dict(zip(df_substations_matched['Uid'], df_substations_matched['Техместо']))\n",
    "test = []\n",
    "for key in uid2techplace.keys():\n",
    "    test.append(uid2techplace[key] == df_substations_matched[df_substations_matched['Uid'] == key]['Техместо'].values[0])\n",
    "\n",
    "assert all(test) == True\n",
    "df_rs['Техместо_ПС'] = df_rs['Substation_Uid'].apply(lambda x: uid2techplace.get(x))\n",
    "print('None:', df_rs['Техместо_ПС'].isna().sum())\n",
    "df_rs"
   ]
  },
  {
   "cell_type": "markdown",
   "id": "3e16ee4a-8f73-453c-bc70-55e78b6b82b4",
   "metadata": {},
   "source": [
    "# Нормализация имени"
   ]
  },
  {
   "cell_type": "code",
   "execution_count": 15,
   "id": "05806686-8914-401e-b1a4-fec5339c59be",
   "metadata": {},
   "outputs": [
    {
     "data": {
      "text/plain": [
       "1826"
      ]
     },
     "execution_count": 15,
     "metadata": {},
     "output_type": "execute_result"
    }
   ],
   "source": [
    "len(set(df_rs['name'].unique()) & set(df_supa['ДиспНаименование'].unique()))"
   ]
  },
  {
   "cell_type": "code",
   "execution_count": 16,
   "id": "1a6c67b9-d8b2-46b1-b6ec-72eaf332b6b3",
   "metadata": {},
   "outputs": [],
   "source": [
    "def name_norm(text):\n",
    "    if isinstance(text, str):\n",
    "        text = text.lower()\n",
    "        if 'копия' in text or 'резерв' in text:\n",
    "            return None\n",
    "        text = text.replace('c', 'с')\n",
    "        chars2remove = ['-', ' ', '_', ',', '.', '\\\\', '(', ')'\n",
    "                       '110кв', '110', 'ввода', 'ввод', \n",
    "                        'сек', 'вст', 'вл', 'зазнож', 'заземлнож',\n",
    "                       'фаза', 'вч', '1шр', '2шр', '\"', 'кс', 'сш', 'лэп',\n",
    "                        'фавс', 'фвс', 'фав', 'фас', 'фа', 'фв', 'фс'\n",
    "                        'знвл', 'знв', 'знфпр', 'знфп', 'знкс', 'зносш', \n",
    "                        'знрп', 'знтн', 'знс', 'знт', 'знш']\n",
    "        \n",
    "        for char in chars2remove:\n",
    "            text = text.replace(char, '')\n",
    "        text = text.replace('c', 'с').replace('a', 'а').replace('b', 'в').replace('ii', '2').replace('i', '1')\n",
    "        return text\n",
    "    return None\n",
    "\n",
    "df_rs['name_norm'] = df_rs['name'].apply(name_norm)\n",
    "df_supa['name_norm'] = df_supa['Название'].apply(name_norm)\n",
    "# df_supa['name_norm'] = df_supa['ДиспНаименование'].apply(name_norm)"
   ]
  },
  {
   "cell_type": "code",
   "execution_count": 17,
   "id": "96782fe3-55fc-421c-8a78-7475ec706a41",
   "metadata": {},
   "outputs": [
    {
     "name": "stdout",
     "output_type": "stream",
     "text": [
      "3569\n"
     ]
    },
    {
     "data": {
      "text/plain": [
       "3390"
      ]
     },
     "execution_count": 17,
     "metadata": {},
     "output_type": "execute_result"
    }
   ],
   "source": [
    "df_rs['name_norm_techplace'] = df_rs['name_norm'] +'_'+ df_rs['Техместо_ПС']\n",
    "df_supa['name_norm_techplace'] = df_supa['name_norm'] +'_'+ df_supa['ВерхнееТМ']\n",
    "\n",
    "feasible_to_match, df_merge1, df_rs, df_supa, _ = merge_by_key_column(df_rs, df_supa, 'name_norm_techplace')\n",
    "feasible_to_match"
   ]
  },
  {
   "cell_type": "code",
   "execution_count": 18,
   "id": "8183cc3c-f01b-49f9-8691-f7f8ad1c7689",
   "metadata": {},
   "outputs": [
    {
     "name": "stdout",
     "output_type": "stream",
     "text": [
      "1864\n"
     ]
    },
    {
     "data": {
      "text/plain": [
       "1684"
      ]
     },
     "execution_count": 18,
     "metadata": {},
     "output_type": "execute_result"
    }
   ],
   "source": [
    "df_supa['name_norm'] = df_supa['ДиспНаименование'].apply(name_norm)\n",
    "df_supa['name_norm_techplace'] = df_supa['name_norm'] +'_'+ df_supa['ВерхнееТМ']\n",
    "\n",
    "feasible_to_match, df_merge2, df_rs, df_supa, _ = merge_by_key_column(df_rs, df_supa, 'name_norm_techplace')\n",
    "feasible_to_match"
   ]
  },
  {
   "cell_type": "code",
   "execution_count": 19,
   "id": "7636b3bc-b5c5-4f7d-8351-43f738e89a45",
   "metadata": {},
   "outputs": [
    {
     "name": "stdout",
     "output_type": "stream",
     "text": [
      "93\n"
     ]
    },
    {
     "data": {
      "text/plain": [
       "82"
      ]
     },
     "execution_count": 19,
     "metadata": {},
     "output_type": "execute_result"
    }
   ],
   "source": [
    "df_supa['name'] = df_supa['Название']\n",
    "df_rs['name_techplace'] = df_rs['name'] +'_'+ df_rs['Техместо_ПС']\n",
    "df_supa['name_techplace'] = df_supa['name'] +'_'+ df_supa['ВерхнееТМ']\n",
    "\n",
    "feasible_to_match, df_merge3, df_rs, df_supa, _ = merge_by_key_column(df_rs, df_supa, 'name_techplace')\n",
    "feasible_to_match"
   ]
  },
  {
   "cell_type": "code",
   "execution_count": 20,
   "id": "c9ee84b0-4a8b-44ae-8547-d7bf073ac0cc",
   "metadata": {},
   "outputs": [
    {
     "name": "stdout",
     "output_type": "stream",
     "text": [
      "46\n"
     ]
    },
    {
     "data": {
      "text/plain": [
       "25"
      ]
     },
     "execution_count": 20,
     "metadata": {},
     "output_type": "execute_result"
    }
   ],
   "source": [
    "df_supa['name'] = df_supa['ДиспНаименование']\n",
    "df_rs['name_techplace'] = df_rs['name'] +'_'+ df_rs['Техместо_ПС']\n",
    "df_supa['name_techplace'] = df_supa['name'] +'_'+ df_supa['ВерхнееТМ']\n",
    "\n",
    "feasible_to_match, df_merge4, df_rs, df_supa, _ = merge_by_key_column(df_rs, df_supa, 'name_techplace')\n",
    "feasible_to_match"
   ]
  },
  {
   "cell_type": "markdown",
   "id": "ae5f5869-95a0-47ba-9aa5-d475a79252b8",
   "metadata": {},
   "source": [
    "# get_letters_hyphen_nums"
   ]
  },
  {
   "cell_type": "code",
   "execution_count": 21,
   "id": "606bded6-4f25-47d0-9b04-7b0e5f135707",
   "metadata": {},
   "outputs": [],
   "source": [
    "def get_letters_hyphen_nums(text):\n",
    "    if isinstance(text, str):\n",
    "        text = text.lower()\n",
    "        if 'копия' in text or 'резерв' in text:\n",
    "            return None\n",
    "        text = text.replace('110', '')\n",
    "        text = text.replace('c', 'с')\n",
    "        match = re.findall('[а-я]{1,3}-\\d+', text)\n",
    "        if match:\n",
    "            return match[0]\n",
    "    return None\n",
    "                \n",
    "df_rs['letters_hyphen_nums'] = df_rs['name'].apply(get_letters_hyphen_nums)\n",
    "df_supa['letters_hyphen_nums'] = df_supa['Название'].apply(get_letters_hyphen_nums)\n",
    "# df_supa['letters_hyphen_nums'] = df_supa['ДиспНаименование'].apply(name_norm)"
   ]
  },
  {
   "cell_type": "code",
   "execution_count": 22,
   "id": "45f293f8-b78c-4f55-b85b-970a33bbc30c",
   "metadata": {},
   "outputs": [
    {
     "name": "stdout",
     "output_type": "stream",
     "text": [
      "628\n"
     ]
    },
    {
     "data": {
      "text/plain": [
       "202"
      ]
     },
     "execution_count": 22,
     "metadata": {},
     "output_type": "execute_result"
    }
   ],
   "source": [
    "df_rs['letters_hyphen_nums_techplace'] = df_rs['letters_hyphen_nums'] +'_'+ df_rs['Техместо_ПС']\n",
    "df_supa['letters_hyphen_nums_techplace'] = df_supa['letters_hyphen_nums'] +'_'+ df_supa['ВерхнееТМ']\n",
    "\n",
    "feasible_to_match, df_merge5, df_rs, df_supa, df_duples = merge_by_key_column(df_rs, df_supa, 'letters_hyphen_nums_techplace')\n",
    "feasible_to_match"
   ]
  },
  {
   "cell_type": "code",
   "execution_count": 23,
   "id": "359a72ac-ac45-4a86-89fd-80efd821af9a",
   "metadata": {},
   "outputs": [],
   "source": [
    "def get_letters_letters_hyphen_nums(text):\n",
    "    if isinstance(text, str):\n",
    "        text = text.lower()\n",
    "        if 'копия' in text or 'резерв' in text:\n",
    "            return None\n",
    "        text = text.replace('110', '')\n",
    "        text = text.replace('c', 'с')\n",
    "        match = re.findall(' [а-я]{1,2} [а-я]{1,3}-\\d+', text)\n",
    "        if match:\n",
    "            return match[0]\n",
    "    return None\n",
    "                \n",
    "df_rs['letters_letters_hyphen_nums'] = df_rs['name'].apply(get_letters_letters_hyphen_nums)\n",
    "df_supa['letters_letters_hyphen_nums'] = df_supa['Название'].apply(get_letters_letters_hyphen_nums)"
   ]
  },
  {
   "cell_type": "code",
   "execution_count": 24,
   "id": "8980fa6c-2c17-48d9-857d-fd49a1cacf62",
   "metadata": {},
   "outputs": [
    {
     "name": "stdout",
     "output_type": "stream",
     "text": [
      "188\n"
     ]
    },
    {
     "data": {
      "text/plain": [
       "71"
      ]
     },
     "execution_count": 24,
     "metadata": {},
     "output_type": "execute_result"
    }
   ],
   "source": [
    "df_rs['letters_letters_hyphen_nums_techplace'] = df_rs['letters_letters_hyphen_nums'] +'_'+ df_rs['Техместо_ПС']\n",
    "df_supa['letters_letters_hyphen_nums_techplace'] = df_supa['letters_letters_hyphen_nums'] +'_'+ df_supa['ВерхнееТМ']\n",
    "\n",
    "feasible_to_match, df_merge6, df_rs, df_supa, df_duples = merge_by_key_column(df_rs, df_supa, 'letters_letters_hyphen_nums_techplace')\n",
    "feasible_to_match"
   ]
  },
  {
   "cell_type": "code",
   "execution_count": 25,
   "id": "bede581d-8aa6-4a00-9dd9-864972dfd33d",
   "metadata": {},
   "outputs": [
    {
     "name": "stdout",
     "output_type": "stream",
     "text": [
      "130\n"
     ]
    },
    {
     "data": {
      "text/plain": [
       "17"
      ]
     },
     "execution_count": 25,
     "metadata": {},
     "output_type": "execute_result"
    }
   ],
   "source": [
    "df_supa['letters_letters_hyphen_nums'] = df_supa['ДиспНаименование'].apply(get_letters_letters_hyphen_nums)\n",
    "df_supa['letters_letters_hyphen_nums_techplace'] = df_supa['letters_letters_hyphen_nums'] +'_'+ df_supa['ВерхнееТМ']\n",
    "\n",
    "feasible_to_match, df_merge7, df_rs, df_supa, df_duples = merge_by_key_column(df_rs, df_supa, 'letters_letters_hyphen_nums_techplace')\n",
    "feasible_to_match"
   ]
  },
  {
   "cell_type": "code",
   "execution_count": 26,
   "id": "872313d8-048f-4b8e-836b-6afccba31f2f",
   "metadata": {},
   "outputs": [
    {
     "name": "stdout",
     "output_type": "stream",
     "text": [
      "Сопоставлено 0.6131345959878964 СУПА\n",
      "Сопоставлено 0.4212674212674213 RS\n"
     ]
    }
   ],
   "source": [
    "df_matched = pd.concat([df_merge1, df_merge2, df_merge3, df_merge4, df_merge5, df_merge6, df_merge7])\n",
    "print('Сопоставлено', (df_matched.shape[0])/(df_supa.shape[0] + df_matched.shape[0]), 'СУПА')\n",
    "print('Сопоставлено', (df_matched.shape[0])/(df_rs.shape[0] + df_matched.shape[0]), 'RS')"
   ]
  }
 ],
 "metadata": {
  "kernelspec": {
   "display_name": "Python 3 (ipykernel)",
   "language": "python",
   "name": "python3"
  },
  "language_info": {
   "codemirror_mode": {
    "name": "ipython",
    "version": 3
   },
   "file_extension": ".py",
   "mimetype": "text/x-python",
   "name": "python",
   "nbconvert_exporter": "python",
   "pygments_lexer": "ipython3",
   "version": "3.11.5"
  }
 },
 "nbformat": 4,
 "nbformat_minor": 5
}
