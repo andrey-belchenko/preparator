{
 "cells": [
  {
   "cell_type": "code",
   "execution_count": 1,
   "id": "cbf89119-95f8-44ff-a61c-05155ca4cd39",
   "metadata": {},
   "outputs": [],
   "source": [
    "import pandas as pd\n",
    "import re\n",
    "import yaml\n",
    "from data_io import load_data_from_db, insert_collection_into_db\n",
    "from merge import merge_by_key_column\n",
    "from tokenize import tokenize, NAME\n",
    "from io import BytesIO\n",
    "import warnings\n",
    "warnings.filterwarnings(\"ignore\")"
   ]
  },
  {
   "cell_type": "code",
   "execution_count": 2,
   "id": "5918054e-dbcc-424c-a7f4-4a152f37dc4a",
   "metadata": {},
   "outputs": [],
   "source": [
    "from collections import Counter\n",
    "pd.set_option('max_colwidth', 100)\n",
    "pd.set_option('display.max_columns', None)"
   ]
  },
  {
   "cell_type": "code",
   "execution_count": 3,
   "id": "afd992e9-bcd5-48a2-b4bf-2833b5410212",
   "metadata": {},
   "outputs": [],
   "source": [
    "with open('params.yml', 'r') as f:\n",
    "    params = yaml.full_load(f)"
   ]
  },
  {
   "cell_type": "code",
   "execution_count": 4,
   "id": "a5cb004f-28c9-4742-9949-f1e4c2bc5bf8",
   "metadata": {},
   "outputs": [],
   "source": [
    "pd.set_option('max_colwidth', 100)\n",
    "pd.set_option('display.max_columns', None)"
   ]
  },
  {
   "cell_type": "code",
   "execution_count": 5,
   "id": "c60fdbe8-4e09-4eb3-b152-399dbff337ab",
   "metadata": {},
   "outputs": [],
   "source": [
    "with open('params.yml', 'r') as f:\n",
    "    params = yaml.full_load(f)\n",
    "\n",
    "class_name = 'StaticVarCompensator'\n",
    "\n",
    "df_rs, df_supa, df_substations_matched = load_data_from_db(class_name, params)"
   ]
  },
  {
   "cell_type": "code",
   "execution_count": 6,
   "id": "8d9922d1-b2e0-46c9-b322-019894d8e6d3",
   "metadata": {},
   "outputs": [
    {
     "data": {
      "text/html": [
       "<div>\n",
       "<style scoped>\n",
       "    .dataframe tbody tr th:only-of-type {\n",
       "        vertical-align: middle;\n",
       "    }\n",
       "\n",
       "    .dataframe tbody tr th {\n",
       "        vertical-align: top;\n",
       "    }\n",
       "\n",
       "    .dataframe thead th {\n",
       "        text-align: right;\n",
       "    }\n",
       "</style>\n",
       "<table border=\"1\" class=\"dataframe\">\n",
       "  <thead>\n",
       "    <tr style=\"text-align: right;\">\n",
       "      <th></th>\n",
       "      <th>_id</th>\n",
       "      <th>Uid</th>\n",
       "      <th>name</th>\n",
       "      <th>Класс</th>\n",
       "      <th>Substation_Uid</th>\n",
       "    </tr>\n",
       "  </thead>\n",
       "  <tbody>\n",
       "    <tr>\n",
       "      <th>0</th>\n",
       "      <td>65ad2329c268b8233d91ad37</td>\n",
       "      <td>44a71609-850d-43c7-a76b-df096839fe19</td>\n",
       "      <td>УШР-110</td>\n",
       "      <td>StaticVarCompensator</td>\n",
       "      <td>31b622ca-efff-4893-b977-ad41e4377c62</td>\n",
       "    </tr>\n",
       "  </tbody>\n",
       "</table>\n",
       "</div>"
      ],
      "text/plain": [
       "                        _id                                   Uid     name  \\\n",
       "0  65ad2329c268b8233d91ad37  44a71609-850d-43c7-a76b-df096839fe19  УШР-110   \n",
       "\n",
       "                  Класс                        Substation_Uid  \n",
       "0  StaticVarCompensator  31b622ca-efff-4893-b977-ad41e4377c62  "
      ]
     },
     "metadata": {},
     "output_type": "display_data"
    },
    {
     "name": "stdout",
     "output_type": "stream",
     "text": [
      "<class 'pandas.core.frame.DataFrame'>\n",
      "RangeIndex: 1 entries, 0 to 0\n",
      "Data columns (total 5 columns):\n",
      " #   Column          Non-Null Count  Dtype \n",
      "---  ------          --------------  ----- \n",
      " 0   _id             1 non-null      object\n",
      " 1   Uid             1 non-null      object\n",
      " 2   name            1 non-null      object\n",
      " 3   Класс           1 non-null      object\n",
      " 4   Substation_Uid  1 non-null      object\n",
      "dtypes: object(5)\n",
      "memory usage: 172.0+ bytes\n"
     ]
    },
    {
     "data": {
      "text/plain": [
       "None"
      ]
     },
     "metadata": {},
     "output_type": "display_data"
    },
    {
     "name": "stdout",
     "output_type": "stream",
     "text": [
      "----------\n"
     ]
    },
    {
     "data": {
      "text/html": [
       "<div>\n",
       "<style scoped>\n",
       "    .dataframe tbody tr th:only-of-type {\n",
       "        vertical-align: middle;\n",
       "    }\n",
       "\n",
       "    .dataframe tbody tr th {\n",
       "        vertical-align: top;\n",
       "    }\n",
       "\n",
       "    .dataframe thead th {\n",
       "        text-align: right;\n",
       "    }\n",
       "</style>\n",
       "<table border=\"1\" class=\"dataframe\">\n",
       "  <thead>\n",
       "    <tr style=\"text-align: right;\">\n",
       "      <th></th>\n",
       "      <th>_id</th>\n",
       "      <th>Техместо</th>\n",
       "      <th>ДиспНаименование</th>\n",
       "      <th>Название</th>\n",
       "      <th>Местоположение</th>\n",
       "      <th>Класс</th>\n",
       "      <th>ВерхнееТМ</th>\n",
       "      <th>Район</th>\n",
       "      <th>НазваниеКласса</th>\n",
       "      <th>is_required_class</th>\n",
       "    </tr>\n",
       "  </thead>\n",
       "  <tbody>\n",
       "    <tr>\n",
       "      <th>0</th>\n",
       "      <td>65af4348f443d62e8527a4b7</td>\n",
       "      <td>PS110-000688-0E</td>\n",
       "      <td>None</td>\n",
       "      <td>Шунтирующий реактор УШР-110</td>\n",
       "      <td>5530020700</td>\n",
       "      <td>VTM_310</td>\n",
       "      <td>PS110-000688</td>\n",
       "      <td>None</td>\n",
       "      <td>Шунтирующий реактор</td>\n",
       "      <td>True</td>\n",
       "    </tr>\n",
       "  </tbody>\n",
       "</table>\n",
       "</div>"
      ],
      "text/plain": [
       "                        _id         Техместо ДиспНаименование  \\\n",
       "0  65af4348f443d62e8527a4b7  PS110-000688-0E             None   \n",
       "\n",
       "                      Название  Местоположение    Класс     ВерхнееТМ Район  \\\n",
       "0  Шунтирующий реактор УШР-110      5530020700  VTM_310  PS110-000688  None   \n",
       "\n",
       "        НазваниеКласса  is_required_class  \n",
       "0  Шунтирующий реактор               True  "
      ]
     },
     "metadata": {},
     "output_type": "display_data"
    },
    {
     "name": "stdout",
     "output_type": "stream",
     "text": [
      "<class 'pandas.core.frame.DataFrame'>\n",
      "RangeIndex: 1 entries, 0 to 0\n",
      "Data columns (total 10 columns):\n",
      " #   Column             Non-Null Count  Dtype \n",
      "---  ------             --------------  ----- \n",
      " 0   _id                1 non-null      object\n",
      " 1   Техместо           1 non-null      object\n",
      " 2   ДиспНаименование   0 non-null      object\n",
      " 3   Название           1 non-null      object\n",
      " 4   Местоположение     1 non-null      int64 \n",
      " 5   Класс              1 non-null      object\n",
      " 6   ВерхнееТМ          1 non-null      object\n",
      " 7   Район              0 non-null      object\n",
      " 8   НазваниеКласса     1 non-null      object\n",
      " 9   is_required_class  1 non-null      bool  \n",
      "dtypes: bool(1), int64(1), object(8)\n",
      "memory usage: 205.0+ bytes\n"
     ]
    },
    {
     "data": {
      "text/plain": [
       "None"
      ]
     },
     "metadata": {},
     "output_type": "display_data"
    },
    {
     "name": "stdout",
     "output_type": "stream",
     "text": [
      "----------\n"
     ]
    },
    {
     "data": {
      "text/html": [
       "<div>\n",
       "<style scoped>\n",
       "    .dataframe tbody tr th:only-of-type {\n",
       "        vertical-align: middle;\n",
       "    }\n",
       "\n",
       "    .dataframe tbody tr th {\n",
       "        vertical-align: top;\n",
       "    }\n",
       "\n",
       "    .dataframe thead th {\n",
       "        text-align: right;\n",
       "    }\n",
       "</style>\n",
       "<table border=\"1\" class=\"dataframe\">\n",
       "  <thead>\n",
       "    <tr style=\"text-align: right;\">\n",
       "      <th></th>\n",
       "      <th>_id</th>\n",
       "      <th>Uid</th>\n",
       "      <th>Техместо</th>\n",
       "      <th>Наименование</th>\n",
       "      <th>Диспетчерское наименование</th>\n",
       "      <th>Класс</th>\n",
       "    </tr>\n",
       "  </thead>\n",
       "  <tbody>\n",
       "    <tr>\n",
       "      <th>0</th>\n",
       "      <td>65a9950923f335544b44a09e</td>\n",
       "      <td>000fe64c-7b85-4bea-9ada-3e514d968485</td>\n",
       "      <td>PS110-000516</td>\n",
       "      <td>ПС 110 кВ Уропская</td>\n",
       "      <td>ПС 110 кВ Уропская</td>\n",
       "      <td>Substation</td>\n",
       "    </tr>\n",
       "    <tr>\n",
       "      <th>1</th>\n",
       "      <td>65a9950923f335544b44a09f</td>\n",
       "      <td>011f18d7-614e-4945-8bf8-81964a8c6a9f</td>\n",
       "      <td>PS110-001024</td>\n",
       "      <td>ПС 110 кВ Потаскуй</td>\n",
       "      <td>ПС 110 кВ Потаскуй</td>\n",
       "      <td>Substation</td>\n",
       "    </tr>\n",
       "    <tr>\n",
       "      <th>2</th>\n",
       "      <td>65a9950923f335544b44a0a0</td>\n",
       "      <td>01628ca3-8af1-4d26-84c3-52ee6c0f1adc</td>\n",
       "      <td>PS110-000253</td>\n",
       "      <td>ПС 110 кВ Пригородная</td>\n",
       "      <td>ПС 110 кВ Пригородная</td>\n",
       "      <td>Substation</td>\n",
       "    </tr>\n",
       "    <tr>\n",
       "      <th>3</th>\n",
       "      <td>65a9950923f335544b44a0a1</td>\n",
       "      <td>018c4cfb-1f78-41e9-8e40-001a41114299</td>\n",
       "      <td>PS110-000519</td>\n",
       "      <td>ПС 110 кВ Городская</td>\n",
       "      <td>ПС 110 кВ Городская</td>\n",
       "      <td>Substation</td>\n",
       "    </tr>\n",
       "    <tr>\n",
       "      <th>4</th>\n",
       "      <td>65a9950923f335544b44a0a2</td>\n",
       "      <td>0193398d-8d84-40d9-8520-2f8ea56bf5e9</td>\n",
       "      <td>PS110-000294</td>\n",
       "      <td>ПС 110 кВ Коробейниково</td>\n",
       "      <td>ПС 110 кВ Коробейниково</td>\n",
       "      <td>Substation</td>\n",
       "    </tr>\n",
       "    <tr>\n",
       "      <th>5</th>\n",
       "      <td>65a9950923f335544b44a0a3</td>\n",
       "      <td>01d27eab-6a9e-41ba-9614-a782a63b430b</td>\n",
       "      <td>PS110-000268</td>\n",
       "      <td>ПС 110 кВ Опорная</td>\n",
       "      <td>ПС 110 кВ Опорная</td>\n",
       "      <td>Substation</td>\n",
       "    </tr>\n",
       "    <tr>\n",
       "      <th>6</th>\n",
       "      <td>65a9950923f335544b44a0a4</td>\n",
       "      <td>02697fc5-c1c1-4b96-a808-a905916b8feb</td>\n",
       "      <td>PS110-000008</td>\n",
       "      <td>ПС 110 кВ Гусиноозерская</td>\n",
       "      <td>ПС 110 кВ Гусиноозерская</td>\n",
       "      <td>Substation</td>\n",
       "    </tr>\n",
       "    <tr>\n",
       "      <th>7</th>\n",
       "      <td>65a9950923f335544b44a0a5</td>\n",
       "      <td>02b970fd-165b-4da9-9807-c8f21ee9b221</td>\n",
       "      <td>PS110-000387</td>\n",
       "      <td>ПС 110 кВ Затонская</td>\n",
       "      <td>ПС 110 кВ Затонская</td>\n",
       "      <td>Substation</td>\n",
       "    </tr>\n",
       "    <tr>\n",
       "      <th>8</th>\n",
       "      <td>65a9950923f335544b44a0a6</td>\n",
       "      <td>0355728d-e712-4133-97e2-0c3cbe4ef79c</td>\n",
       "      <td>PS110-001242</td>\n",
       "      <td>ПС 110 кВ Полярная</td>\n",
       "      <td>None</td>\n",
       "      <td>Substation</td>\n",
       "    </tr>\n",
       "    <tr>\n",
       "      <th>9</th>\n",
       "      <td>65a9950923f335544b44a0a7</td>\n",
       "      <td>037bf15d-c151-4d3d-938a-076a5e1d25f2</td>\n",
       "      <td>PS110-000807</td>\n",
       "      <td>ПС 110 кВ Орловский ГОК</td>\n",
       "      <td>ПС 110 кВ Орловский ГОК</td>\n",
       "      <td>Substation</td>\n",
       "    </tr>\n",
       "  </tbody>\n",
       "</table>\n",
       "</div>"
      ],
      "text/plain": [
       "                        _id                                   Uid  \\\n",
       "0  65a9950923f335544b44a09e  000fe64c-7b85-4bea-9ada-3e514d968485   \n",
       "1  65a9950923f335544b44a09f  011f18d7-614e-4945-8bf8-81964a8c6a9f   \n",
       "2  65a9950923f335544b44a0a0  01628ca3-8af1-4d26-84c3-52ee6c0f1adc   \n",
       "3  65a9950923f335544b44a0a1  018c4cfb-1f78-41e9-8e40-001a41114299   \n",
       "4  65a9950923f335544b44a0a2  0193398d-8d84-40d9-8520-2f8ea56bf5e9   \n",
       "5  65a9950923f335544b44a0a3  01d27eab-6a9e-41ba-9614-a782a63b430b   \n",
       "6  65a9950923f335544b44a0a4  02697fc5-c1c1-4b96-a808-a905916b8feb   \n",
       "7  65a9950923f335544b44a0a5  02b970fd-165b-4da9-9807-c8f21ee9b221   \n",
       "8  65a9950923f335544b44a0a6  0355728d-e712-4133-97e2-0c3cbe4ef79c   \n",
       "9  65a9950923f335544b44a0a7  037bf15d-c151-4d3d-938a-076a5e1d25f2   \n",
       "\n",
       "       Техместо              Наименование Диспетчерское наименование  \\\n",
       "0  PS110-000516        ПС 110 кВ Уропская         ПС 110 кВ Уропская   \n",
       "1  PS110-001024        ПС 110 кВ Потаскуй         ПС 110 кВ Потаскуй   \n",
       "2  PS110-000253     ПС 110 кВ Пригородная      ПС 110 кВ Пригородная   \n",
       "3  PS110-000519       ПС 110 кВ Городская        ПС 110 кВ Городская   \n",
       "4  PS110-000294   ПС 110 кВ Коробейниково    ПС 110 кВ Коробейниково   \n",
       "5  PS110-000268         ПС 110 кВ Опорная          ПС 110 кВ Опорная   \n",
       "6  PS110-000008  ПС 110 кВ Гусиноозерская   ПС 110 кВ Гусиноозерская   \n",
       "7  PS110-000387       ПС 110 кВ Затонская        ПС 110 кВ Затонская   \n",
       "8  PS110-001242        ПС 110 кВ Полярная                       None   \n",
       "9  PS110-000807   ПС 110 кВ Орловский ГОК    ПС 110 кВ Орловский ГОК   \n",
       "\n",
       "        Класс  \n",
       "0  Substation  \n",
       "1  Substation  \n",
       "2  Substation  \n",
       "3  Substation  \n",
       "4  Substation  \n",
       "5  Substation  \n",
       "6  Substation  \n",
       "7  Substation  \n",
       "8  Substation  \n",
       "9  Substation  "
      ]
     },
     "metadata": {},
     "output_type": "display_data"
    },
    {
     "name": "stdout",
     "output_type": "stream",
     "text": [
      "<class 'pandas.core.frame.DataFrame'>\n",
      "RangeIndex: 822 entries, 0 to 821\n",
      "Data columns (total 6 columns):\n",
      " #   Column                      Non-Null Count  Dtype \n",
      "---  ------                      --------------  ----- \n",
      " 0   _id                         822 non-null    object\n",
      " 1   Uid                         822 non-null    object\n",
      " 2   Техместо                    822 non-null    object\n",
      " 3   Наименование                822 non-null    object\n",
      " 4   Диспетчерское наименование  818 non-null    object\n",
      " 5   Класс                       822 non-null    object\n",
      "dtypes: object(6)\n",
      "memory usage: 38.7+ KB\n"
     ]
    },
    {
     "data": {
      "text/plain": [
       "None"
      ]
     },
     "metadata": {},
     "output_type": "display_data"
    },
    {
     "name": "stdout",
     "output_type": "stream",
     "text": [
      "----------\n"
     ]
    }
   ],
   "source": [
    "for df in [df_rs, df_supa, df_substations_matched]:\n",
    "    display(df.head(10))\n",
    "    display(df.info())\n",
    "    print('-'*10)"
   ]
  },
  {
   "cell_type": "markdown",
   "id": "f7bf69f1-dfdb-4c5b-9a30-b82ca49e3a18",
   "metadata": {},
   "source": [
    "# Берем Техместо из ПС (ранее сопоставленных). Кладем в RS20"
   ]
  },
  {
   "cell_type": "code",
   "execution_count": 7,
   "id": "01386a2e-2a03-4f91-92ea-79c8223e107d",
   "metadata": {},
   "outputs": [
    {
     "name": "stdout",
     "output_type": "stream",
     "text": [
      "Между сопоставленными ПС и RS20 PowerTransformer общих по Uid ПС: 1\n"
     ]
    }
   ],
   "source": [
    "techplace_substations_matched = set(df_substations_matched['Техместо'].tolist())\n",
    "# techplace_substations_supa = set(df_supa['Верхнее ТМ'].tolist())\n",
    "# print('Между сопоставленными ПС и СУПА PowerTransformer общих по Техместу ПС:', len(techplace_substations_matched & techplace_substations_supa))\n",
    "\n",
    "uid_substations_matched = set(df_substations_matched['Uid'].tolist())\n",
    "uid_substations_rs = set(df_rs['Substation_Uid'].tolist())\n",
    "print('Между сопоставленными ПС и RS20 PowerTransformer общих по Uid ПС:', len(uid_substations_matched & uid_substations_rs))"
   ]
  },
  {
   "cell_type": "code",
   "execution_count": 8,
   "id": "38c5f523-4b09-42e1-ad68-30fd83a9d706",
   "metadata": {},
   "outputs": [
    {
     "name": "stdout",
     "output_type": "stream",
     "text": [
      "None: 0\n"
     ]
    },
    {
     "data": {
      "text/html": [
       "<div>\n",
       "<style scoped>\n",
       "    .dataframe tbody tr th:only-of-type {\n",
       "        vertical-align: middle;\n",
       "    }\n",
       "\n",
       "    .dataframe tbody tr th {\n",
       "        vertical-align: top;\n",
       "    }\n",
       "\n",
       "    .dataframe thead th {\n",
       "        text-align: right;\n",
       "    }\n",
       "</style>\n",
       "<table border=\"1\" class=\"dataframe\">\n",
       "  <thead>\n",
       "    <tr style=\"text-align: right;\">\n",
       "      <th></th>\n",
       "      <th>_id</th>\n",
       "      <th>Uid</th>\n",
       "      <th>name</th>\n",
       "      <th>Класс</th>\n",
       "      <th>Substation_Uid</th>\n",
       "      <th>Техместо_ПС</th>\n",
       "    </tr>\n",
       "  </thead>\n",
       "  <tbody>\n",
       "    <tr>\n",
       "      <th>0</th>\n",
       "      <td>65ad2329c268b8233d91ad37</td>\n",
       "      <td>44a71609-850d-43c7-a76b-df096839fe19</td>\n",
       "      <td>УШР-110</td>\n",
       "      <td>StaticVarCompensator</td>\n",
       "      <td>31b622ca-efff-4893-b977-ad41e4377c62</td>\n",
       "      <td>PS110-000688</td>\n",
       "    </tr>\n",
       "  </tbody>\n",
       "</table>\n",
       "</div>"
      ],
      "text/plain": [
       "                        _id                                   Uid     name  \\\n",
       "0  65ad2329c268b8233d91ad37  44a71609-850d-43c7-a76b-df096839fe19  УШР-110   \n",
       "\n",
       "                  Класс                        Substation_Uid   Техместо_ПС  \n",
       "0  StaticVarCompensator  31b622ca-efff-4893-b977-ad41e4377c62  PS110-000688  "
      ]
     },
     "execution_count": 8,
     "metadata": {},
     "output_type": "execute_result"
    }
   ],
   "source": [
    "uid2techplace = dict(zip(df_substations_matched['Uid'], df_substations_matched['Техместо']))\n",
    "test = []\n",
    "for key in uid2techplace.keys():\n",
    "    test.append(uid2techplace[key] == df_substations_matched[df_substations_matched['Uid'] == key]['Техместо'].values[0])\n",
    "\n",
    "assert all(test) == True\n",
    "df_rs['Техместо_ПС'] = df_rs['Substation_Uid'].apply(lambda x: uid2techplace.get(x))\n",
    "print('None:', df_rs['Техместо_ПС'].isna().sum())\n",
    "df_rs"
   ]
  },
  {
   "cell_type": "code",
   "execution_count": 9,
   "id": "b26b8bfc-a3e2-4d6f-a101-7744a0d35810",
   "metadata": {},
   "outputs": [],
   "source": [
    "def name_norm(text):\n",
    "    if isinstance(text, str):\n",
    "        match = re.findall('УШР-110', text)\n",
    "        if match:\n",
    "            return match[0]\n",
    "    return None\n",
    "\n",
    "df_rs['name_norm'] = df_rs['name'].apply(name_norm)\n",
    "df_supa['name_norm'] = df_supa['Название'].apply(name_norm)"
   ]
  },
  {
   "cell_type": "code",
   "execution_count": 10,
   "id": "93795ade-a6cf-4570-a019-e21616e29049",
   "metadata": {},
   "outputs": [
    {
     "name": "stdout",
     "output_type": "stream",
     "text": [
      "1\n"
     ]
    },
    {
     "data": {
      "text/plain": [
       "1"
      ]
     },
     "execution_count": 10,
     "metadata": {},
     "output_type": "execute_result"
    }
   ],
   "source": [
    "df_rs['name_norm_techplace'] = df_rs['name_norm'] +'_'+ df_rs['Техместо_ПС']\n",
    "df_supa['name_norm_techplace'] = df_supa['name_norm'] +'_'+ df_supa['ВерхнееТМ']\n",
    "\n",
    "feasible_to_match, df_merge, df_rs, df_supa, df_duples = merge_by_key_column(df_rs, df_supa, 'name_norm_techplace')\n",
    "feasible_to_match"
   ]
  },
  {
   "cell_type": "code",
   "execution_count": 11,
   "id": "5b5ba099-e23b-47f4-b0cd-75f89891353a",
   "metadata": {},
   "outputs": [
    {
     "name": "stdout",
     "output_type": "stream",
     "text": [
      "Сопоставлено 1.0 СУПА\n",
      "Сопоставлено 1.0 RS\n"
     ]
    }
   ],
   "source": [
    "df_matched = df_merge\n",
    "print('Сопоставлено', (df_matched.shape[0])/(df_supa.shape[0] + df_matched.shape[0]), 'СУПА')\n",
    "print('Сопоставлено', (df_matched.shape[0])/(df_rs.shape[0] + df_matched.shape[0]), 'RS')"
   ]
  }
 ],
 "metadata": {
  "kernelspec": {
   "display_name": "Python 3 (ipykernel)",
   "language": "python",
   "name": "python3"
  },
  "language_info": {
   "codemirror_mode": {
    "name": "ipython",
    "version": 3
   },
   "file_extension": ".py",
   "mimetype": "text/x-python",
   "name": "python",
   "nbconvert_exporter": "python",
   "pygments_lexer": "ipython3",
   "version": "3.11.5"
  }
 },
 "nbformat": 4,
 "nbformat_minor": 5
}
